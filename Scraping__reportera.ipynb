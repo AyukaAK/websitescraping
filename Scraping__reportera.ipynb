{
 "cells": [
  {
   "cell_type": "markdown",
   "id": "55d62f99",
   "metadata": {},
   "source": [
    "# Want to scrape the articles between August 2022-May 2023 under Politics category - But available as old as Oct 2022...\n",
    "## Reportera- Page 1-35\n",
    "\n",
    "### https://reportera.ng/category/news/politics/page/35/"
   ]
  },
  {
   "cell_type": "code",
   "execution_count": 7,
   "id": "71c0c3a9",
   "metadata": {},
   "outputs": [],
   "source": [
    "import requests\n",
    "from bs4 import BeautifulSoup"
   ]
  },
  {
   "cell_type": "code",
   "execution_count": 8,
   "id": "60f9fe99",
   "metadata": {},
   "outputs": [
    {
     "name": "stdout",
     "output_type": "stream",
     "text": [
      "1\n",
      "2\n",
      "3\n",
      "4\n",
      "5\n",
      "6\n",
      "7\n",
      "8\n",
      "9\n",
      "10\n",
      "11\n",
      "12\n",
      "13\n",
      "14\n",
      "15\n",
      "16\n",
      "17\n",
      "18\n",
      "19\n",
      "20\n",
      "21\n",
      "22\n",
      "23\n",
      "24\n",
      "25\n",
      "26\n",
      "27\n",
      "28\n",
      "29\n",
      "30\n",
      "31\n",
      "32\n",
      "33\n",
      "34\n",
      "35\n"
     ]
    }
   ],
   "source": [
    "#Note: just testing\n",
    "for i in range(35):\n",
    "    print(i + 1)"
   ]
  },
  {
   "cell_type": "code",
   "execution_count": 39,
   "id": "3d6e9f75",
   "metadata": {},
   "outputs": [
    {
     "name": "stdout",
     "output_type": "stream",
     "text": [
      "https://reportera.ng/category/news/politics/page/1/\n",
      "https://reportera.ng/category/news/politics/page/2/\n",
      "https://reportera.ng/category/news/politics/page/3/\n",
      "https://reportera.ng/category/news/politics/page/4/\n",
      "https://reportera.ng/category/news/politics/page/5/\n",
      "https://reportera.ng/category/news/politics/page/6/\n",
      "https://reportera.ng/category/news/politics/page/7/\n",
      "https://reportera.ng/category/news/politics/page/8/\n",
      "https://reportera.ng/category/news/politics/page/9/\n",
      "https://reportera.ng/category/news/politics/page/10/\n",
      "https://reportera.ng/category/news/politics/page/11/\n",
      "https://reportera.ng/category/news/politics/page/12/\n",
      "https://reportera.ng/category/news/politics/page/13/\n",
      "https://reportera.ng/category/news/politics/page/14/\n",
      "https://reportera.ng/category/news/politics/page/15/\n",
      "https://reportera.ng/category/news/politics/page/16/\n",
      "https://reportera.ng/category/news/politics/page/17/\n",
      "https://reportera.ng/category/news/politics/page/18/\n",
      "https://reportera.ng/category/news/politics/page/19/\n",
      "https://reportera.ng/category/news/politics/page/20/\n",
      "https://reportera.ng/category/news/politics/page/21/\n",
      "https://reportera.ng/category/news/politics/page/22/\n",
      "https://reportera.ng/category/news/politics/page/23/\n",
      "https://reportera.ng/category/news/politics/page/24/\n",
      "https://reportera.ng/category/news/politics/page/25/\n",
      "https://reportera.ng/category/news/politics/page/26/\n",
      "https://reportera.ng/category/news/politics/page/27/\n",
      "https://reportera.ng/category/news/politics/page/28/\n",
      "https://reportera.ng/category/news/politics/page/29/\n",
      "https://reportera.ng/category/news/politics/page/30/\n",
      "https://reportera.ng/category/news/politics/page/31/\n",
      "https://reportera.ng/category/news/politics/page/32/\n",
      "https://reportera.ng/category/news/politics/page/33/\n",
      "https://reportera.ng/category/news/politics/page/34/\n",
      "https://reportera.ng/category/news/politics/page/35/\n"
     ]
    }
   ],
   "source": [
    "BASE_URL = \"https://reportera.ng/category/news/politics/\"\n",
    "for i in range(35):\n",
    "    print(BASE_URL + \"page/\" + str(i + 1)+ \"/\")"
   ]
  },
  {
   "cell_type": "code",
   "execution_count": 31,
   "id": "66989d67",
   "metadata": {},
   "outputs": [],
   "source": [
    "# Go into each link and get the article's text\n",
    "# A function to get the full article text\n",
    "\n",
    "def get_full_article_html(article_url):\n",
    "    article_html = requests.get(article_url).text\n",
    "    return article_html\n"
   ]
  },
  {
   "cell_type": "code",
   "execution_count": 33,
   "id": "b05f2056",
   "metadata": {},
   "outputs": [
    {
     "name": "stdout",
     "output_type": "stream",
     "text": [
      "https://reportera.ng/category/news/politics/page/1/\n",
      "https://reportera.ng/nigers-military-junta-proposes-democratic-transition-amidst-tensions/\n",
      "Niger’s Military Junta Proposes Democratic Transition Amidst Tensions\n",
      "August 21, 2023\n",
      "Niger Republic, a West African nation with a recent history of political volatility, is currently at a crossroads. The leadership of General Abdourahamane Tchiani, head of the military junta that ousted President Mohamed Bazoum, has put forward a plan for a return to democracy over the next three years. Against the backdrop of this transition, the roles of the military junta, concerns from foreign forces, and the quest for democratic stability in the Niger Republic take center stage.The Military Junta’s Stance and IntentionsGeneral Tchiani, addressing the nation in a televised speech, emphasized the junta’s commitment to peaceful dialogue and its aversion to conflict. The announcement reflects both the junta’s aspiration for stability and the people of Niger’s desire for a peaceful resolution. Key to this is the junta’s pledge that its ambition is not to monopolize power indefinitely, but to pave the way for democratic governance.The Timetable for Democratic TransitionWithin the upcoming 30 days, a crucial national dialogue, orchestrated by the junta, will define the guiding principles for the transition. This framework will outline the nation’s priorities and lay the foundation for the rebuilding process. The articulation of these priorities not only shapes Niger’s future trajectory but also offers a platform for diverse voices to contribute to the nation’s transformation.Disruption of Democratic NormsNiger’s recent political history has been marked by the abrupt overthrow of President Bazoum, who was democratically elected in 2021. This sudden shift in power disrupted the nation’s otherwise relatively smooth transfer of authority. The military junta’s swift action in seizing control of national institutions underscores the fragile nature of democratic institutions in regions where political dynamics are inherently unstable.Foreign Forces and International ConcernsThe involvement of external entities, most notably the Economic Community of West African States (ECOWAS), adds a layer of complexity to Niger’s situation. ECOWAS, responding firmly to the coup, imposed sanctions and issued an ultimatum for the junta to step down. The specter of potential military intervention by a regional standby force further underscores the international community’s concerns over political stability within Niger and its potential repercussions on the wider West African region.Engagement and Preparedness of the JuntaGeneral Tchiani’s meeting with ECOWAS leaders in the capital, Niamey, affirmed the junta’s willingness to engage in dialogue that respects the aspirations of the Nigerien people. However, the junta also emphasized its resolve to defend itself against any form of attack. This underscores the junta’s determination to safeguard its interests amidst heightened regional tensions.Allegations and Political MotivationsThe junta’s claim of possessing evidence of “high treason” against former President Bazoum raises questions about the underlying political motivations behind the coup. These allegations further complicate the narrative and highlight the challenge of ascertaining factual information in the midst of ongoing political upheaval.Niger’s Position in the Sahel RegionSituated in the Sahel region, which has witnessed political upheavals in neighboring nations such as Mali and Burkina Faso, Niger’s transition holds regional significance. The nation’s recent status as one of the few democracies in the area underscores the potential ripple effects of its political developments on the wider Sahel landscape.As Niger navigates its transition, the confluence of local dynamics, international pressures, and the junta’s intent will shape its path forward. The junta’s commitment to dialogue and democratic restoration, tempered by regional concerns and complex motives, underscores the intricate nature of this process. As the Niger Republic strives for stability and prosperity, its journey serves as a reflection of the broader challenges faced by nations in regions marked by political uncertainty.For the latest news updates, follow us on Twitter @ReporterNews. Stay informed and engaged with the evolving stories from all around the world\n",
      "https://reportera.ng/ecowas-rejects-three-year-transition-plan-in-niger/\n",
      "ECOWAS Rejects Junta’s Three-Year Transition Plan in Niger\n",
      "August 21, 2023\n",
      "In a significant turn of events, the Economic Community of West African States (ECOWAS) has decisively rejected the proposed three-year power transition plan put forth by the Niger junta. This rejection comes amidst escalating tensions within the region as the junta’s intentions and the broader implications of their plan are questioned.ECOWAS Commissioner for Political Affairs, Peace, and Security, Abdel-Fatau Musa, made the organization’s stance unequivocally clear during a recent interview with the BBC. General Abdourahamane Tchiani, the leader of the Niger junta, had publicly announced on Saturday a transition plan that would see the military cede power to a civilian government over the course of the next three years.However, ECOWAS’s response has been resolute. Musa, during the interview, characterized Tchiani’s proposal as nothing more than a veil of diplomacy concealing a more complex reality. This response underscores the skepticism surrounding the junta’s intentions and the need for a more transparent and swift transition process.The rejection also follows a diplomatic mission led by former Military Head of State, Gen Abdulsalami Abubakar (rtd), who headed an ECOWAS delegation to Niger in a last-ditch effort to engage in dialogue and forge a peaceful resolution. The delegation engaged with Prime Minister Ali Lamine Zeine and ousted President Mohamed Bazoum, alongside General Abdourahamane Tchiani.A critical point of contention lies in the junta’s refusal to comply with ECOWAS’s ultimatum to reinstate President Mohamed Bazoum. The junta’s dismissal of this ultimatum has further strained diplomatic efforts and heightened regional concerns. The rejection of the transition plan is a clear indicator of the regional economic union’s disapproval of the junta’s current trajectory.As regional tensions continue to mount, the situation in Niger has gained international attention. It remains to be seen how the rejection of the junta’s transition plan by ECOWAS is likely to shape their next course of action. The urgency for a peaceful compromise is paramount, as a prolonged period of uncertainty could have far-reaching implications for both Niger and its neighboring countries.In conclusion, the rejection of the three-year power transition plan by ECOWAS represents a pivotal moment in the ongoing crisis within Niger. The regional community’s skepticism and the urgent need for a peaceful resolution have come to the forefront. As the situation evolves, all eyes remain fixed on Niger and the ECOWAS.Follow us on X/Twitter @ReporteraNews for more updates.\n",
      "https://reportera.ng/gambias-president-adama-barrow-implements-foreign-travel-suspension-to-curb-spending/\n",
      "Gambia’s President Adama Barrow Implements Foreign Travel Suspension to Curb Spending\n",
      "August 21, 2023\n",
      "In a bid to navigate economic challenges, President Adama Barrow of Gambia has taken a bold step to curb public spending by suspending all foreign travel by government officials, including himself. This move, announced by a government spokesperson on Saturday, reflects a strategic approach to financial management in the face of economic constraints.The directive, conveyed through an executive order, encompasses a wide spectrum of officials within the Gambian government. This includes the president and vice-president, cabinet ministers, senior government officials, civil servants, and employees across diverse government institutions and agencies. This comprehensive suspension is slated to remain in effect for the entirety of the fiscal year, with certain exceptions delineated in the order.Exceptions to Ensure Essential Participation and FundingWhile the travel suspension is broad-reaching, the executive order does acknowledge situations where Gambian participation is indispensable. Additionally, foreign trips that are completely financed by external sources are exempt from the travel restrictions. This strategic approach aims to strike a balance between fiscal responsibility and the need to fulfill critical government functions and international commitments.Gambia’s Socio-Economic Landscape: Challenges and RealitiesGambia, often noted as continental Africa’s smallest nation, faces a range of socio-economic challenges. Its position on the UN’s Human Development Index, ranking 174th out of 191 countries, underscores the nation’s performance across key indicators such as health, education, and standard of living. The stark reality that over a fifth of the population lives on less than two dollars a day highlights the urgency of effective financial management.Economic Struggles and Budgetary ConcernsThe economic landscape in Gambia has been marred by difficulties, with an annual inflation rate of 11.6 percent recorded in the previous year. Tax revenues have experienced a decline, further exacerbated by the impact of the Ukraine war. This has led to substantial state subsidies on fuel, fertilizers, and grain, contributing to an expanding budget deficit. Both the deficit and debt levels have seen an uptick due to reduced tax revenues and heightened subsidies.Barrow’s Strategic Move: Addressing Economic ChallengesPresident Barrow’s decision to implement a travel suspension for government officials underscores the government’s strategic approach to economic challenges. By focusing on areas of expenditure such as overseas trips, the administration aims to channel resources towards essential domestic requirements and vital international obligations. This measure emphasizes the commitment to prudent financial management and the responsible allocation of resources within the confines of economic limitations.In conclusion, President Adama Barrow’s decisive action to suspend foreign travel for government officials exemplifies a calculated step towards managing Gambia’s economic constraints. By enforcing measures that target non-essential spending, the government aims to redirect funds towards critical national and international commitments. This decision highlights the administration’s dedication to navigating economic difficulties while ensuring optimal allocation of resources to sustain the nation’s well-being.For the latest news updates, follow us on Twitter @ReporterNews. Stay informed and engaged with evolving stories from all around the world.\n"
     ]
    },
    {
     "name": "stdout",
     "output_type": "stream",
     "text": [
      "https://reportera.ng/bola-tinubus-likely-minister-of-petroleum-unveiled/\n",
      "Bola Tinubu- Likely Minister of Petroleum Unveiled\n",
      "August 20, 2023\n",
      "In an intriguing turn of events, Bola Tinubu appears to have quietly positioned himself to take on a significant role in Nigeria’s energy landscape.The speculation arises from the absence of formal appointments for the pivotal positions of Minister of Petroleum Resources and the newly established Ministry of Gas Resources.While Bola Tinubu has not explicitly confirmed his intentions, the conspicuous vacancy in these roles strongly suggests his keen interest.Picture Source- PinterestLike his predecessors, Bola Tinubu’s approach seems to echo that of Muhammadu Buhari, who took on the mantle of the Minister of Petroleum Resources during his tenure.Interestingly, as Bola Tinubu unveiled his cabinet on Wednesday, August 16, he assigned portfolios to his ministers, but intriguingly, he refrained from designating any ministerial nominees to lead the vital gas and petroleum resources ministries.The absence of appointments for these crucial roles has sparked a flurry of speculation. Does President Tinubu harbor aspirations to steer Nigeria’s energy sector in a new direction? While he hasn’t explicitly declared his intention to hold the office of petroleum minister, his strategic silence speaks volumes. Premium Times, a source, has astutely observed that Bola Tinubu’s decision to leave these roles vacant likely points to his intention to assume their responsibilities.Presidential spokesperson Ajuri Ngelale’s decision to remain tight-lipped on the matter only adds to the intrigue surrounding these developments. It seems that Nigeria’s political landscape is once again witnessing a calculated move that may shape the course of its energy policies. As Nigerians await further clarification, the implications of this strategic move by President Tinubu continue to reverberate through the corridors of power and public discourse alike.\n",
      "https://reportera.ng/clashe-erupt-among-boko-haram-factions-in-borno-state/\n",
      "Clashes Erupt Among Boko Haram Factions in Borno State\n",
      "August 17, 2023\n",
      "In a stunning turn of events, ongoing turmoil within Boko Haram has manifested in violent clashes among the extremist group’s various factions in the northeastern region of Nigeria’s Borno State. Despite a prevalent “Sit-At-Home” order, residents in Borno State continue their daily activities without any hindrance, signaling a defiance of the directive.Internal Strife in Boko HaramLocal sources in Baga and areas near Lake Chad have reported that internal strife has led to intense confrontations among Boko Haram factions in the Kukawa Local Government Area of Borno State. The situation escalated following the demise of seven Boko Haram attackers from the Buduma tribe. These individuals were reportedly killed after refusing to surrender to Nigerian troops. Their leader, on Bukkwaram Island, executed them.Catalysts and ConsequencesThe internal strife took an unexpected twist as allies turned foes, resulting in a vicious four-way clash among different ethnic groups affiliated with the extremist organization. The factions included the Hausa, Fulani, Kanuri, and Buduma.Sources close to the conflict have revealed that the catalyst for this infighting was the severe leadership methods employed against the Buduma fighters. The dissenting Buduma fighters voiced concerns about their leader’s harsh approach, particularly given the recent losses of their comrades in the region.An insider reported that a meeting involving commanders from various tribal backgrounds convened to discuss the matter. Although the initial consensus seemed to permit fighters to operate independently, a Buduma leader named Baduma Bakura vehemently opposed this agreement. Hailing from the Buduma tribe and having just arrived from the Niger Republic, Bakura sought retribution for the death of his friends. In a tragic turn of events, a Fulani fighter shot and killed Bakura during a heated argument, igniting a larger confrontation.The ensuing battle led to a devastating loss of life, with an estimated 82 individuals killed. The distinction between Boko Haram members and ISWAP (Islamic State West Africa Province) militants was blurred, as the conflict primarily evolved into a war between ethnic groups. The tragic spectacle underscores the deeply rooted divisions within the extremist organization.Defiance Amidst TurmoilSecurity sources have disclosed that many of the fallen fighters were notorious Boko Haram members who had previously fled to neighboring countries like Niger before meeting their demise. The fighters had sought refuge on the other side of Lake Chad before returning to Nigeria. Upon their return, a brutal ethnic war awaited them, further fragmenting the already fractured extremist group.In a separate development, the southeast region of Nigeria has displayed remarkable resistance to a recent “Sit-At-Home” order. Despite the directive, residents have chosen to continue their daily routines without obstruction. This defiance raises questions about the effectiveness of such orders in a region where daily activities are deeply ingrained in the fabric of life.Navigating the Complex LandscapeThe clashes among Boko Haram factions underscore the multifaceted challenges that Nigeria faces in its efforts to combat extremism and establish stability in the region. As the nation grapples with internal and external security threats, addressing the root causes of factionalism and violence becomes increasingly vital for lasting peace. The intricate interplay of tribal dynamics near Lake Chad serves as a stark reminder that sustainable solutions must go beyond surface-level measures to address deeply entrenched conflicts.For the latest news updates, follow us on Twitter @ReporterNews. Stay informed and engaged with the evolving stories from all around the world\n",
      "https://reportera.ng/bola-tinubu-assumes-strategic-petroleum-minister-role-and-orchestrates-ministerial-appointments/\n",
      "Bola Tinubu Assumes Strategic Petroleum Minister Role and Orchestrates Ministerial Appointments\n",
      "August 17, 2023\n",
      "Headlines are buzzing as a significant power shift takes place in the political arena. Bola Ahmed Tinubu, appears to be aligning himself with the likes of former presidents Olusegun Obasanjo and Muhammadu Buhari by strategically positioning himself to helm the Ministry of Petroleum Resources.Bola Ahmed Tinubu and Muhamadu Buhari: Picture Source- Pinterest The latest wave of developments hints at Bola Tinubu‘s firm grip on the coveted oil ministry as he masterfully unveils a strategic allocation of ministerial portfolios for a total of 45 other ministers.With the unveiling of Bola Tinubu’s carefully curated list of ministers and their respective roles, all eyes are on Tinubu’s move to solidify his position as the torchbearer of the petroleum sector.The ministerial roles encompasses a diverse spectrum of domains that span from communications and innovation to finance and the economy, unveiling a selection process that reflects Tinubu’s political tenets.Amidst the intrigue, it’s noteworthy that the influential Ministry of Petroleum and Gas Resources remains conspicuously vacant from the released lineup. A nuanced move indeed, this omission underlines Bola Tinubu’s calculated approach as he might be the one at the helm of this landscape.The oil industry remains the nation’s economic cornerstone, generating a staggering 80% of its foreign exchange earnings. Bola Tinubu‘s strategic retention of this crucial portfolio not only underscores his intent but also demonstrates his understanding of the strategic significance of this sector in driving Nigeria’s financial stability and global standing.An air of expectancy surrounds Bola Tinubu’s next move, as anticipation mounts for him to make the highly anticipated announcement of his own appointment as the Minister of Petroleum Resources. If this unfolds as anticipated, the total number of portfolios would ascend to  47, solidifying Bola Tinubu’s place at the helm of Nigeria’s energy landscape.Amid this dynamic narrative, the spotlight also hovers over a trio of individuals who were conspicuously left off the approved list – Nasir el-Rufai, the former governor of Kaduna State; Sani Abubakar Danladi, the former deputy governor of Taraba State; and Stella Okotete from Delta State – their absence from the list echoing the intricacies of political maneuvering.In a strategic move that captures attention, Tinubu confidently dispatched a roster of 48 nominees to the Senate, with a resounding confirmation for 45 of them.In a sweeping panorama of appointments, the roles of these ministers unfold like chapters in a vibrant narrative.Here is the full list:Minister of Communications, Innovation and Digital Economy – Bosun Tijani,Minister of State, Environment and Ecological Management – Ishak SalakoMinister of Finance and Coordinating Minister of the Economy – Wale EdunMinister of Marine and Blue Economy – Bunmi TunjiMinister of Power – Adedayo AdelabuMinister of State, Health and Social Welfare – Tunji AlausaMinister of Solid Minerals Development- Dele AlakeMinister of Tourism, Lola Ade-JohnMinister of Transportation-Adegboyega OyetolaMinister of Industry, Trade and Investment- Doris AniteMinister of Innovation Science and Technology- Uche NnajiMinister of State, Labour and Employment- Nkiruka OnyejeochaMinister of Women Affairs- Uju KennedyMinister of Works- David UmahiMinister of Aviation and Aerospace Development- Festus KeyamoMinister of Youth- Abubakar MomohMinister of Humanitarian Affairs and Poverty Alleviation- Betta EduMinister of State, Gas Resources- Ekperikpe EkpoMinister of State, Petroleum Resources- Heineken LokpobiriMinister of Sports Development- John EnohMinister of Federal Capital Territory- Nyesom WikeMinister of Art, Culture and the Creative Economy- Hannatu MusawaMinister of Defence- Mohammed BadaruMinister of State Defence- Bello MatawalleMinister of State Education- Yusuf T. SunumuMinister of Housing and Urban Development-Ahmed M. DangiwaMinister of State, Housing and Urban Development- Abdullah T. GwarzoMinister of Budget and Economic Planning- Atiku BaguduMinister of Environment and Ecological Management, (Kaduna)Minister of State, Federal Capital Territory, Mairiga MahmudMinister of State, Water Resources and Sanitation -Bello M. GoronyoMinister of Agriculture and Food Security -Abubakar KyariMinister of Education- Tahir MamanMinister of Interior- Sa’Idu A. AlkaliMinister of Foreign Affairs- Yusuf M. TuggarCoordinating Minister of Health and Social Welfare-Ali PateMinister of Police Affairs- Ibrahim GeidamMinister of State, Steel Development- U. Maigari AhmaduMinister of Steel Development- Shuaibu A. AuduMinister of Information and National Orientation- Muhammed IdrisAttorney General of the Federation and Minister of Justice-Lateef FagbemiMinister of Labour and Employment- Simon B. LalongMinister of State, Police Affairs, Imaan Sulaiman-IbrahimMinister of Special Duties and Inter-Governmental Affairs- Zephaniah JisaloMinister of Water Resources and Sanitation- Joseph UtsevMinister of State, Agriculture and Food Security- Aliyu Sabi Abdullahi.The resounding effect of Tinubu’s strategic maneuvering is palpable – a tapestry of influence and decision-making that weaves the threads of Nigeria’s future.With each announcement, a new layer of the nation’s leadership story unfolds, driven by a the orchestration of Bola Tinubu.As the nation watches and waits, the saga of appointments, omissions, and portfolios stands as a testament to the intricate dance of political dynamics that shapes the course of Nigeria’s journey ahead.\n"
     ]
    },
    {
     "name": "stdout",
     "output_type": "stream",
     "text": [
      "https://reportera.ng/nigerians-speak-out-against-fgs-crackdown-on-all-eyes-on-the-judiciary-billboards/\n",
      "Nigerians Speak Out Against FG’s Crackdown on ‘All Eyes on the Judiciary’ Billboards\n",
      "August 16, 2023\n",
      "Judiciary– The Nigerian government’s recent decision to crack down on billboards featuring the message “All Eyes on the Judiciary” has sparked controversy and ignited a debate about freedom of expression, the role of billboards in public discourse, and the government’s relationship with the judiciary.Government’s Response and AccusationsThe government accused the sponsors of the billboards of attempting to blackmail the Presidential Election Petition Tribunal (PEPT). In response, it ordered the immediate removal of all “All Eyes on the Judiciary” advertisements and the sanctioning of those responsible. Moreover, the Director and Deputy Director in charge of Regulations at the Advertising Standards Panel (ASP) were suspended, and the ASP secretariat was dissolved. Dr. Olalekan Fadolapo, Director-General of the Advertising Regulatory Council of Nigeria (ARCON), announced the establishment of a committee to investigate the approval process and the violation of vetting guidelines.Backlash and Citizens’ RightsCritics argue that the government’s actions infringe on citizens’ rights to freedom of expression. The message “All Eyes on the Judiciary” was widely interpreted as a call for citizens to remain vigilant and hold the government accountable, particularly in the context of ongoing legal proceedings related to the presidential election. Many see the crackdown as an attempt to silence a legitimate call for transparency and civic responsibility.Atiku Abubakar’s ResponseFormer Vice President Atiku Abubakar weighed in on the situation, accusing President Bola Tinubu of authoritarianism and an assault on freedom of speech. Atiku’s Special Assistant on Public Communications, Phrank Shaibu, criticized the government’s actions as evidence of an increasingly authoritarian regime and emphasized the importance of an independent judiciary and citizens’ right to express their opinions without fear of retribution.Public Reactions on Social MediaSocial media platforms have been flooded with reactions from Nigerians expressing their frustration over the government’s actions. Many citizens have vowed to find alternative means to raise awareness about the significance of a transparent judiciary, even if billboards featuring the controversial message are removed.The sponsors of the billboards, represented by UC Maxwell, responded to the government’s crackdown with defiance. They asserted that freedom of speech is a constitutional right and emphasized that the intent behind the billboard was to encourage civic responsibility and accountability. The sponsors vehemently rejected the notion that their message constituted an attempt at blackmail, reiterating their commitment to upholding citizens’ accountability of government officials.Balancing Act: Government, Judiciary, and Citizens’ RightsThis incident underscores the delicate balance between the government, the judiciary, and citizens’ rights to express their opinions openly. It also highlights the power of billboards as a medium for conveying messages and stimulating public discourse. As Nigerians continue to grapple with these issues, the ongoing debate over the interplay between the judiciary, the government, and citizens’ rights is likely to intensify.For the latest news updates, follow us on Twitter @ReporterNews. Stay informed and engaged with the evolving stories from all around the world\n"
     ]
    }
   ],
   "source": [
    "# Print just one page to see if I get everything\n",
    "BASE_URL = \"https://reportera.ng/category/news/politics/\"\n",
    "for i in range(1):\n",
    "    page_url = BASE_URL + \"page/\" + str(i + 1)+ \"/\"\n",
    "    print (page_url)\n",
    "    page_html = requests.get(page_url).text\n",
    "    page_soup = BeautifulSoup(page_html)\n",
    "    article_list = page_soup.select(\".mvp-blog-story-wrap\")\n",
    "    for article in article_list:\n",
    "     # NEW CODE TO GET SOUP OF ARTICLE\n",
    "        link = article.a[\"href\"]\n",
    "        article_html = get_full_article_html(link)\n",
    "        article_soup = BeautifulSoup(article_html)\n",
    "        title = article_soup.find(\"h1\", class_=\"mvp-post-title\").text\n",
    "        date = article_soup.find(\"time\", class_=\"post-date\").text\n",
    "        text = article_soup.find(\"div\", {\"id\": \"mvp-content-main\"}).text\n",
    "        \n",
    "        print(link)\n",
    "        print(title)\n",
    "        print(date)\n",
    "        print(text)\n",
    "        \n",
    "        \n",
    "     "
   ]
  },
  {
   "cell_type": "code",
   "execution_count": 49,
   "id": "cb4e2536",
   "metadata": {},
   "outputs": [
    {
     "name": "stdout",
     "output_type": "stream",
     "text": [
      "https://reportera.ng/category/news/politics/page/1/\n",
      "https://reportera.ng/category/news/politics/page/2/\n",
      "https://reportera.ng/category/news/politics/page/3/\n",
      "https://reportera.ng/category/news/politics/page/4/\n",
      "https://reportera.ng/category/news/politics/page/5/\n",
      "https://reportera.ng/category/news/politics/page/6/\n",
      "https://reportera.ng/category/news/politics/page/7/\n",
      "https://reportera.ng/category/news/politics/page/8/\n",
      "https://reportera.ng/category/news/politics/page/9/\n",
      "https://reportera.ng/category/news/politics/page/10/\n",
      "https://reportera.ng/category/news/politics/page/11/\n",
      "https://reportera.ng/category/news/politics/page/12/\n",
      "https://reportera.ng/category/news/politics/page/13/\n",
      "https://reportera.ng/category/news/politics/page/14/\n",
      "https://reportera.ng/category/news/politics/page/15/\n",
      "https://reportera.ng/category/news/politics/page/16/\n",
      "https://reportera.ng/category/news/politics/page/17/\n",
      "https://reportera.ng/category/news/politics/page/18/\n",
      "https://reportera.ng/category/news/politics/page/19/\n",
      "https://reportera.ng/category/news/politics/page/20/\n",
      "https://reportera.ng/category/news/politics/page/21/\n",
      "https://reportera.ng/category/news/politics/page/22/\n",
      "https://reportera.ng/category/news/politics/page/23/\n",
      "https://reportera.ng/category/news/politics/page/24/\n",
      "https://reportera.ng/category/news/politics/page/25/\n",
      "https://reportera.ng/category/news/politics/page/26/\n",
      "https://reportera.ng/category/news/politics/page/27/\n",
      "https://reportera.ng/category/news/politics/page/28/\n",
      "https://reportera.ng/category/news/politics/page/29/\n",
      "https://reportera.ng/category/news/politics/page/30/\n",
      "https://reportera.ng/category/news/politics/page/31/\n",
      "https://reportera.ng/category/news/politics/page/32/\n",
      "https://reportera.ng/category/news/politics/page/33/\n",
      "https://reportera.ng/category/news/politics/page/34/\n",
      "https://reportera.ng/category/news/politics/page/35/\n"
     ]
    }
   ],
   "source": [
    "# append all the variables \n",
    "all_rows = []\n",
    "\n",
    "BASE_URL = \"https://reportera.ng/category/news/politics/\"\n",
    "for i in range(35):\n",
    "    page_url = BASE_URL + \"page/\" + str(i + 1)+ \"/\"\n",
    "    print (page_url)\n",
    "    page_html = requests.get(page_url).text\n",
    "    page_soup = BeautifulSoup(page_html)\n",
    "    article_list = page_soup.select(\".mvp-blog-story-wrap\")\n",
    "    for article in article_list:\n",
    "     # NEW CODE TO GET SOUP OF ARTICLE\n",
    "        link = article.a[\"href\"]\n",
    "        article_html = get_full_article_html(link)\n",
    "        article_soup = BeautifulSoup(article_html)\n",
    "        title = article_soup.find(\"h1\", class_=\"mvp-post-title\").text\n",
    "        date = article_soup.find(\"time\", class_=\"post-date\").text\n",
    "        text = article_soup.find(\"div\", {\"id\": \"mvp-content-main\"}).text\n",
    "        \n",
    "        all_rows.append([title, date, link, text])      \n",
    "     "
   ]
  },
  {
   "cell_type": "code",
   "execution_count": 50,
   "id": "a20a93d9",
   "metadata": {},
   "outputs": [
    {
     "data": {
      "text/plain": [
       "340"
      ]
     },
     "execution_count": 50,
     "metadata": {},
     "output_type": "execute_result"
    }
   ],
   "source": [
    "len(all_rows)"
   ]
  },
  {
   "cell_type": "code",
   "execution_count": 51,
   "id": "9a5295cb",
   "metadata": {},
   "outputs": [],
   "source": [
    "import pandas as pd\n",
    "df = pd.DataFrame(all_rows)"
   ]
  },
  {
   "cell_type": "code",
   "execution_count": 52,
   "id": "659a1a72",
   "metadata": {},
   "outputs": [],
   "source": [
    "df.columns = ['title', 'date', 'link','text']"
   ]
  },
  {
   "cell_type": "code",
   "execution_count": 53,
   "id": "1f6c6125",
   "metadata": {},
   "outputs": [],
   "source": [
    "#export it to csv file\n",
    "df.to_csv('reportera_all.csv', index=False)"
   ]
  },
  {
   "cell_type": "code",
   "execution_count": 46,
   "id": "b4d85bca",
   "metadata": {},
   "outputs": [
    {
     "name": "stdout",
     "output_type": "stream",
     "text": [
      "https://reportera.ng/category/news/politics/page/32/\n",
      "https://reportera.ng/category/news/politics/page/33/\n",
      "https://reportera.ng/category/news/politics/page/34/\n",
      "https://reportera.ng/category/news/politics/page/35/\n"
     ]
    }
   ],
   "source": [
    "# actually we only need between page 32-35 for the election period\n",
    "all_rows = []\n",
    "\n",
    "BASE_URL = \"https://reportera.ng/category/news/politics/\"\n",
    "for i in range(4):\n",
    "    page_url = BASE_URL + \"page/\" + str(i + 32)+ \"/\"\n",
    "    print (page_url)\n",
    "    page_html = requests.get(page_url).text\n",
    "    page_soup = BeautifulSoup(page_html)\n",
    "    article_list = page_soup.select(\".mvp-blog-story-wrap\")\n",
    "    for article in article_list:\n",
    "     # NEW CODE TO GET SOUP OF ARTICLE\n",
    "        link = article.a[\"href\"]\n",
    "        article_html = get_full_article_html(link)\n",
    "        article_soup = BeautifulSoup(article_html)\n",
    "        title = article_soup.find(\"h1\", class_=\"mvp-post-title\").text\n",
    "        date = article_soup.find(\"time\", class_=\"post-date\").text\n",
    "        text = article_soup.find(\"div\", {\"id\": \"mvp-content-main\"}).text\n",
    "        \n",
    "        all_rows.append([title, date, link, text])  "
   ]
  },
  {
   "cell_type": "code",
   "execution_count": 47,
   "id": "5fd8ab59",
   "metadata": {},
   "outputs": [
    {
     "data": {
      "text/plain": [
       "33"
      ]
     },
     "execution_count": 47,
     "metadata": {},
     "output_type": "execute_result"
    }
   ],
   "source": [
    "len(all_rows)"
   ]
  },
  {
   "cell_type": "code",
   "execution_count": 48,
   "id": "8c9d4b75",
   "metadata": {},
   "outputs": [],
   "source": [
    "import pandas as pd\n",
    "df = pd.DataFrame(all_rows)"
   ]
  },
  {
   "cell_type": "code",
   "execution_count": null,
   "id": "0f54825e",
   "metadata": {},
   "outputs": [],
   "source": [
    "df.columns = ['title', 'date', 'link','text']"
   ]
  },
  {
   "cell_type": "code",
   "execution_count": null,
   "id": "0f8b803b",
   "metadata": {},
   "outputs": [],
   "source": [
    "#export it to csv file\n",
    "df.to_csv('reportera.csv', index=False)"
   ]
  }
 ],
 "metadata": {
  "kernelspec": {
   "display_name": "Python 3 (ipykernel)",
   "language": "python",
   "name": "python3"
  },
  "language_info": {
   "codemirror_mode": {
    "name": "ipython",
    "version": 3
   },
   "file_extension": ".py",
   "mimetype": "text/x-python",
   "name": "python",
   "nbconvert_exporter": "python",
   "pygments_lexer": "ipython3",
   "version": "3.10.3"
  }
 },
 "nbformat": 4,
 "nbformat_minor": 5
}
