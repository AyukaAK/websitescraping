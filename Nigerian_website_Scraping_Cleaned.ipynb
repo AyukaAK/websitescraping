{
 "cells": [
  {
   "cell_type": "markdown",
   "id": "7d8102d0",
   "metadata": {},
   "source": [
    "# Scrape the articles between August 2022-May 2023 under Politics category"
   ]
  },
  {
   "cell_type": "markdown",
   "id": "4e2fe529",
   "metadata": {},
   "source": [
    "# Lagos Today \n",
    "\n",
    "### website: https://lagostoday.com.ng/\n",
    "#### page 2 to 7 of the politics page https://lagostoday.com.ng/category/politics/page/2/"
   ]
  },
  {
   "cell_type": "code",
   "execution_count": 9,
   "id": "257d3f36",
   "metadata": {},
   "outputs": [],
   "source": [
    "# pip install beautifulsoup4"
   ]
  },
  {
   "cell_type": "code",
   "execution_count": 10,
   "id": "2b669eeb",
   "metadata": {},
   "outputs": [],
   "source": [
    "# Ok, I'll use the beautifulsoup for scraping\n",
    "import requests\n",
    "from bs4 import BeautifulSoup"
   ]
  },
  {
   "cell_type": "code",
   "execution_count": 11,
   "id": "91c180d9",
   "metadata": {},
   "outputs": [
    {
     "name": "stdout",
     "output_type": "stream",
     "text": [
      "1\n",
      "2\n",
      "3\n",
      "4\n",
      "5\n",
      "6\n"
     ]
    }
   ],
   "source": [
    "#just testing the code\n",
    "for i in range(6):\n",
    "    print(i + 1)"
   ]
  },
  {
   "cell_type": "code",
   "execution_count": 12,
   "id": "51caf5d8",
   "metadata": {
    "scrolled": true
   },
   "outputs": [
    {
     "name": "stdout",
     "output_type": "stream",
     "text": [
      "https://lagostoday.com.ng/category/politics/page/2\n",
      "https://lagostoday.com.ng/category/politics/page/3\n",
      "https://lagostoday.com.ng/category/politics/page/4\n",
      "https://lagostoday.com.ng/category/politics/page/5\n",
      "https://lagostoday.com.ng/category/politics/page/6\n",
      "https://lagostoday.com.ng/category/politics/page/7\n"
     ]
    }
   ],
   "source": [
    "#just checking the code for the range of pages for the time period\n",
    "BASE_URL = \"https://lagostoday.com.ng/category/politics/\"\n",
    "for i in range(6):\n",
    "    print(BASE_URL + \"page/\" + str(i + 2))"
   ]
  },
  {
   "cell_type": "code",
   "execution_count": 13,
   "id": "46da274c",
   "metadata": {},
   "outputs": [],
   "source": [
    "# Go into each link and get the article's text\n",
    "# A function to get the full article text\n",
    "\n",
    "def get_full_article_text(article_url):\n",
    "    article_html = requests.get(article_url).text\n",
    "    article_soup = BeautifulSoup(article_html)\n",
    "    return article_soup.find(\"div\", class_=\"entry-content\").text"
   ]
  },
  {
   "cell_type": "code",
   "execution_count": null,
   "id": "3f00c86f",
   "metadata": {},
   "outputs": [],
   "source": [
    "# To print if I want to make sure but stop playing because it prints a lot\n",
    "# It takes a long time to load all the article text so it's better to stop running after you see the first article\n",
    "\n",
    "\n",
    "# BASE_URL = \"https://lagostoday.com.ng/category/politics/\"\n",
    "# for i in range(6):\n",
    "#    page_url = BASE_URL + \"page/\" + str(i + 2)\n",
    "#    print (page_url)\n",
    "#    page_html = requests.get(page_url).text\n",
    "#    page_soup = BeautifulSoup(page_html)\n",
    "#    article_list = page_soup.select(\"article\")\n",
    "#    for article in article_list:\n",
    "#        print(article.div.header.h2.a.text)\n",
    "#        print(article.div.ul.find(\"li\", class_=\"meta-date\").find(text=True, recursive=False))\n",
    "#        categories_list = article.div.ul.find(\"li\", class_=\"meta-cat\").find_all(\"a\")\n",
    "#        categories_text = [a.text for a in categories_list]\n",
    "#        print(categories_text)\n",
    "#        print(article.div.div.a[\"href\"])\n",
    "#        print(get_full_article_text(article.div.div.a[\"href\"]))"
   ]
  },
  {
   "cell_type": "code",
   "execution_count": 14,
   "id": "9772f04a",
   "metadata": {},
   "outputs": [
    {
     "name": "stdout",
     "output_type": "stream",
     "text": [
      "https://lagostoday.com.ng/category/politics/page/2\n",
      "https://lagostoday.com.ng/category/politics/page/3\n",
      "https://lagostoday.com.ng/category/politics/page/4\n",
      "https://lagostoday.com.ng/category/politics/page/5\n",
      "https://lagostoday.com.ng/category/politics/page/6\n",
      "https://lagostoday.com.ng/category/politics/page/7\n"
     ]
    }
   ],
   "source": [
    "#Create the variables and add them to the list\n",
    "#recursive = False is to not go into the sub element of that element\n",
    "all_rows = []\n",
    "\n",
    "BASE_URL = \"https://lagostoday.com.ng/category/politics/\"\n",
    "for i in range(6):\n",
    "    page_url = BASE_URL + \"page/\" + str(i + 2)\n",
    "    print (page_url)\n",
    "    page_html = requests.get(page_url).text\n",
    "    page_soup = BeautifulSoup(page_html)\n",
    "    article_list = page_soup.select(\"article\")\n",
    "    for article in article_list:\n",
    "        categories_list = article.div.ul.find(\"li\", class_=\"meta-cat\").find_all(\"a\")\n",
    "        categories_text = [a.text for a in categories_list]   \n",
    "        \n",
    "        title = article.div.header.h2.a.text\n",
    "        date = article.div.ul.find(\"li\", class_=\"meta-date\").find(text=True, recursive=False)\n",
    "        category = categories_text\n",
    "        link = article.div.div.a[\"href\"]\n",
    "        text = get_full_article_text(article.div.div.a[\"href\"])\n",
    "        \n",
    "        all_rows.append([title, date, category, link, text])\n",
    "        \n",
    "        "
   ]
  },
  {
   "cell_type": "code",
   "execution_count": 15,
   "id": "ca2a728b",
   "metadata": {},
   "outputs": [
    {
     "data": {
      "text/plain": [
       "60"
      ]
     },
     "execution_count": 15,
     "metadata": {},
     "output_type": "execute_result"
    }
   ],
   "source": [
    "#just checking how many rows do we get\n",
    "len(all_rows)"
   ]
  },
  {
   "cell_type": "code",
   "execution_count": 16,
   "id": "fb44a007",
   "metadata": {},
   "outputs": [],
   "source": [
    "#use pandas to create a dataframe\n",
    "import pandas as pd\n",
    "df = pd.DataFrame(all_rows)"
   ]
  },
  {
   "cell_type": "code",
   "execution_count": 17,
   "id": "8659ea82",
   "metadata": {},
   "outputs": [],
   "source": [
    "#export it to csv file\n",
    "df.to_csv('lagos_today.csv', index=False)"
   ]
  },
  {
   "cell_type": "code",
   "execution_count": null,
   "id": "957394a6",
   "metadata": {},
   "outputs": [],
   "source": []
  },
  {
   "cell_type": "code",
   "execution_count": null,
   "id": "149e3749",
   "metadata": {},
   "outputs": [],
   "source": []
  },
  {
   "cell_type": "code",
   "execution_count": null,
   "id": "e9faa8d6",
   "metadata": {},
   "outputs": [],
   "source": []
  }
 ],
 "metadata": {
  "kernelspec": {
   "display_name": "Python 3 (ipykernel)",
   "language": "python",
   "name": "python3"
  },
  "language_info": {
   "codemirror_mode": {
    "name": "ipython",
    "version": 3
   },
   "file_extension": ".py",
   "mimetype": "text/x-python",
   "name": "python",
   "nbconvert_exporter": "python",
   "pygments_lexer": "ipython3",
   "version": "3.10.3"
  }
 },
 "nbformat": 4,
 "nbformat_minor": 5
}
