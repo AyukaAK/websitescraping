{
 "cells": [
  {
   "cell_type": "markdown",
   "id": "7d8102d0",
   "metadata": {},
   "source": [
    "# Scrape the articles between August 2022-May 2023 under Politics category"
   ]
  },
  {
   "cell_type": "markdown",
   "id": "4e2fe529",
   "metadata": {},
   "source": [
    "# Lagos Today \n",
    "\n",
    "### website: https://lagostoday.com.ng/\n",
    "#### page 2 to 7 of the politics page https://lagostoday.com.ng/category/politics/page/2/"
   ]
  },
  {
   "cell_type": "code",
   "execution_count": 179,
   "id": "257d3f36",
   "metadata": {},
   "outputs": [],
   "source": [
    "# pip install beautifulsoup4"
   ]
  },
  {
   "cell_type": "code",
   "execution_count": 1,
   "id": "2b669eeb",
   "metadata": {},
   "outputs": [],
   "source": [
    "# Ok, I'll use the beautifulsoup for scraping\n",
    "import requests\n",
    "from bs4 import BeautifulSoup"
   ]
  },
  {
   "cell_type": "code",
   "execution_count": 2,
   "id": "91c180d9",
   "metadata": {},
   "outputs": [
    {
     "name": "stdout",
     "output_type": "stream",
     "text": [
      "1\n",
      "2\n",
      "3\n",
      "4\n",
      "5\n",
      "6\n"
     ]
    }
   ],
   "source": [
    "#Note: just testing\n",
    "for i in range(6):\n",
    "    print(i + 1)"
   ]
  },
  {
   "cell_type": "code",
   "execution_count": 5,
   "id": "51caf5d8",
   "metadata": {
    "scrolled": true
   },
   "outputs": [
    {
     "name": "stdout",
     "output_type": "stream",
     "text": [
      "https://lagostoday.com.ng/category/politics/page/2\n",
      "https://lagostoday.com.ng/category/politics/page/3\n",
      "https://lagostoday.com.ng/category/politics/page/4\n",
      "https://lagostoday.com.ng/category/politics/page/5\n",
      "https://lagostoday.com.ng/category/politics/page/6\n",
      "https://lagostoday.com.ng/category/politics/page/7\n"
     ]
    }
   ],
   "source": [
    "#Note: checking for the range of pages for the time period\n",
    "BASE_URL = \"https://lagostoday.com.ng/category/politics/\"\n",
    "for i in range(6):\n",
    "    print(BASE_URL + \"page/\" + str(i + 2))"
   ]
  },
  {
   "cell_type": "code",
   "execution_count": 6,
   "id": "46da274c",
   "metadata": {},
   "outputs": [],
   "source": [
    "# Go into each link and get the article's text\n",
    "# A function to get the full article text\n",
    "\n",
    "def get_full_article_text(article_url):\n",
    "    article_html = requests.get(article_url).text\n",
    "    article_soup = BeautifulSoup(article_html)\n",
    "    return article_soup.find(\"div\", class_=\"entry-content\").text"
   ]
  },
  {
   "cell_type": "code",
   "execution_count": 7,
   "id": "c7a6d107",
   "metadata": {},
   "outputs": [
    {
     "name": "stdout",
     "output_type": "stream",
     "text": [
      "https://lagostoday.com.ng/category/politics/page/2\n",
      "China pledges increased economic cooperation with Nigeria\n",
      "May 31, 2023\n",
      "['Business', 'Infrastructure', 'News', 'Politics', 'Security']\n",
      "https://lagostoday.com.ng/china-pledges-increased-economic-cooperation-with-nigeria/\n",
      "\n",
      "…Nigeria is important to Africa, World, says Chinese President XI Jinping\n",
      "Chinese President XI Jinping has pledged increased economic cooperation with Nigeria, saying the country is important to Africa and the world.\n",
      "The Chinese president spoke through his Special Envoy, Peng Qinghua, Vice Chairperson, Standing Committee of National People’s Congress, People’s Republic of China who met with President Bola Tinubu at the State House, Abuja on Wednesday.\n",
      "Qinghua said the two countries at present had good bilateral relations and economic cooperation, noting that Chinese companies were doing well in Nigeria in railways, roads, hydropower and free trade zones.\n",
      "While commending President Tinubu’s plan to lead Nigeria to a new era of economic development and prosperity, the Chinese envoy, however, said there were areas where Nigeria could benefit from China.\n",
      "He called on the two countries to share ideas and align strategies, urging President Tinubu to also create more conducive environment for investment.\n",
      "Responding, President Tinubu said Nigeria is open for business and constructive partnerships, and would do business with any country ready to do business with the country.He promised that his administration would work to promote ease of doing business.\n",
      "He said: “We need accelerated growth and we are ready to do business honestly with those ready to do business with us.\n",
      "“We will continue to work to promote democracy in the West African sub-region. I’m a product of democracy and shall work day and night to advance democracy.\n",
      "“We will fight terrorism and all forms of criminality.We can learn from each other, but we will remain non-aligned.”\n",
      "The Chinese delegation included her Ambassador to Nigeria, Cui Jianchun and Minister-Counselor Zhang Yi.\n",
      "Tunde Rahman,State House,Abuja.May 31, 2023\n",
      "\n",
      "\n",
      "\n",
      "Tinubu bags highest national honour, promises not to disappoint Nigerians\n",
      "May 25, 2023\n",
      "['News', 'Politics']\n",
      "https://lagostoday.com.ng/tinubu-bags-highest-national-honour-promises-not-to-disappoint-nigerians/\n",
      "\n",
      "\n",
      "…praises President Buhari for honouring MKO Abiola\n",
      "\n",
      "President-elect Bola Ahmed Tinubu has promised not to disappoint Nigerians who put their trust in him by electing him their president.\n",
      "The President-elect said this on Thursday, during his investiture as Grand Commander of the Federal Republic (GCFR) – the nation’s highest honour-and Vice President-elect Kashim Shettima as Grand Commander of the Order of the Niger (GCON), and handing over of transition documents.\n",
      "The President-elect who spoke at the investiture said his election to lead the over 200 million people in the country was a goodwill, which came from a place of trust.\n",
      "He said, “I am a simple man who is the beneficiary of the support and goodwill of the people of Nigeria.\n",
      "“The people have put their trust in us. You have done your part Mr. President.\n",
      "“Now, that great duty descends on me. I understand the meaning of the honor given to me today and of the task that awaits.\n",
      "“I must run this race and must do it well. On security, the economy, agriculture, jobs, education, health and power and in all other sectors we must make headway. The people deserve no less. In this, I shall disappoint neither them nor you, Mr. President.”\n",
      "The President-elect recognized that though Nigeria’s path may not always be smooth but expressed faith in the country’s purpose and collective ability to overcome challenges.\n",
      "He said, “Our way shall not always be smooth. Yet we are imbued with faith in our purpose and a firm belief in our collective ability to overcome the challenges that confront us.”\n",
      "The President-elect also commended President Muhammadu Buhari’s unwavering commitment to progressive and democratic good governance, recognizing him as a leader who took courageous decisions when others shied away.\n",
      "He specifically thanked President Buhari for designating June 12 as Democracy Day and honouring MKO Abiola with the GCFR title, a decision other presidents were afraid to take.\n",
      "He said, “President Buhari, you have shown courage in taking tough decisions others avoided.\n",
      "“One such decision was to recognize the injustice of the annulment of the 1993 election, to designate June 12 as Democracy Day, and to bestow the nation’s highest honor on the late MKO Abiola.\n",
      "“As much as anyone could, you reached back into history to set the record straight and heal a festering wound.\n",
      "“The justice you did in this matter lends special meaning to today.”\n",
      "The President-elect also expressed his gratitude to President Buhari for bestowing the nation’s highest honors on him and Vice President-elect Shettima, promising to carry\n",
      "“Thank you, Mr. President, for bestowing the nation’s highest honors on my Vice President elect Shettima and me,” he said.\n",
      "Asiwaju Tinubu also extended his appreciation for the transition documents and the diligent work performed by the transition council led by the Secretary to the Government of the Federation (SGF) Boss Mustapha.\n",
      "While acknowledging the comprehensive scorecard presented in the transition documents, he said, “The documents summarize the immense work of your administration. They constitute an impressive and noteworthy scorecard.”\n",
      "He further emphasized that the ceremony exemplified Nigeria’s vibrant and true democracy, where one leader honors his successor and ensures a smooth transition of power.\n",
      "“This stately occasion is living evidence that Nigeria is a vibrant and true democracy.”\n",
      "Office of the President-electTunde RahmanMay 25, 2023\n",
      "\n",
      "\n",
      "\n",
      "\n",
      "\n",
      "I dedicate myself to national purpose\n",
      "May 25, 2023\n",
      "['News', 'Politics']\n",
      "https://lagostoday.com.ng/i-dedicate-myself-to-national-purpose/\n",
      "\n",
      "I DEDICATE MYSELF FOR NATIONAL PURPOSE AND DESTINY, TEXT OF ADDRESS DELIVERED BY PRESIDENT-ELECT, ASIWAJU BOLA AHMED TINUBU AT HIS INVESTITURE FOR HIGHEST NATIONAL HONOUR IN ABUJA ON THURSDAY MAY 25TH, 2023\n",
      "\n",
      "Thank You, Mr. President, for bestowing the nation’s highest honors on my Vice President elect Shettima and me.\n",
      "Our deep thanks also for the transition documents and the committed work performed by the transition council headed by the SGF.\n",
      "The documents summarize the immense work of your administration. They constitute an impressive and noteworthy scorecard.\n",
      "You have made history and no one can take your contribution to our nation’s development.\n",
      "Your devotion to progressive and democratic good governance is unassailable.\n",
      "As such, I stand here renewed not only in hope but also in dedication to our national purpose and destiny.\n",
      "I also feel full of pride but this pride I feel is not for myself. It is for what this moment represents.\n",
      "This stately occasion is living evidence that Nigeria is a vibrant and true democracy. All of us here bear witness to this inspiring proceeding where one leader bestows personal honor on his successor. Also, that leader does his utmost to exchange the baton of government by ensuring that his successor is as well-prepared as possible for the task at hand.\n",
      "This hall is permeated with a sense of reverence for our democracy and the confident belief that this reverence shall be enshrined for generations to come.\n",
      "Today is more than ceremony. It confirms that our path is right and that nothing will deter us from adhering to it.\n",
      "Our way shall not always be smooth. Yet we are imbued with faith in our purpose and a firm belief in our collective ability to overcome the challenges that confront us.\n",
      "President Buhari, you have shown courage in taking tough decisions others avoided.\n",
      "One such decision was to recognize the injustice of the annulment of the 1993 election, to designate June12 as Democracy Day, and to bestow the nation’s highest honor on the late MKO Abiola.\n",
      "\n",
      "14 As much as anyone could, you reached back into history to set the record straight and heal a festering wound.\n",
      "\n",
      "The justice you did in this matter lends special meaning to today.\n",
      "I am a simple man who is the beneficiary of the support and goodwill of the people of Nigeria.\n",
      "The people have put their trust in us. You have done your part Mr. President.\n",
      "Now, that great duty descends on me. I understand the meaning of the honor given to me today and of the task that awaits.\n",
      "I must run this race and must do it well. On security, the economy, agriculture, jobs, education, health and power and in all other sectors we must make headway. The people deserve no less. In this, I shall disappoint neither them nor you, Mr. President.\n",
      "\n",
      "Thank You and May God Bless our beloved republic.\n",
      "\n",
      "BREAKING: ASIWAJU Tinubu, Shettima Get National Honours\n",
      "May 25, 2023\n",
      "['News', 'Politics']\n",
      "https://lagostoday.com.ng/breaking-asiwaju-tinubu-shettima-get-national-honours/\n"
     ]
    },
    {
     "name": "stdout",
     "output_type": "stream",
     "text": [
      "\n",
      "Four days to their assumption of duties, President-elect Bola Ahmed Tinubu and the Vice President-elect, Kashim Shettima, have been bestowed with the two highest National Honours in the country.\n",
      "Tinubu was awarded the highest national award of Grand Commander of the Order of Federal Republic (GCFR) reserved for Presidents, while Shettima was awarded the second highest national honour of Grand Commander of the Order of the Niger (GCON).\n",
      "The awards were bestowed on the duo by the outgoing President Muhammadu Buhari at an investiture ceremony on Thursday morning at the State House, Abuja, on Thursday morning.\n",
      "\n",
      "SANWO-OLU SHARES LAGOS GOVERNANCE EXPERIENCE WITH NEW GOVERNORS AT INDUCTION\n",
      "May 17, 2023\n",
      "['News', 'Politics']\n",
      "https://lagostoday.com.ng/sanwo-olu-shares-lagos-governance-experience-with-new-governors-at-induction/\n",
      "\n",
      " •Says Deputy Governors are partners, not spare tyres\n",
      "\n",
      "New entrants to the Nigerian Governors’ Forum (NGF), on Tuesday, drew valuable lessons from the hands-on experience of Governor Babajide Sanwo-Olu on the job in the last four years.\n",
      "The Lagos State helmsman shared perspectives and practical ideas on governance during an interaction with his governor colleagues at a three-day induction for new and returning governors held at the Presidential Banquet Hall, State House, Abuja.\n",
      "Sanwo-Olu, who spoke on “Managing the Process of Governance: Insights for New Governors”, said the quality of transition would determine the extent to which a new administrator could hit the ground running.\n",
      "Some governors, the Lagos helmsman said, would be taking over from friendly predecessors and enjoy cordial transitions that would enable them find bearing of governance easily; others, he added, would have to contend with hostile transition teams of the outgoing administrations, which would give them a hard nut to crack upon inauguration.\n",
      "Sanwo-Olu advised those facing hostile transition processes to play the cards available to them, while articulating their governing agenda to help them meander through the transition phase.\n",
      "He said: “The most significant and troubling challenges you will face as a new governor will not be anticipated. A lot of events will happen without warning. The ability to always be responsive, and to be able to quickly deploy mechanisms to attend to unexpected challenges will make a huge amount of difference. Negative news about your government and your person will receive more attention than positive developments, especially in social media.\n",
      "“It is, therefore, important to keep sharing and amplifying the positives, whilst also responding to the negatives with action. Lagos has a unique challenge, in that it enjoys the highest degree of media and social media visibility for obvious reasons. Lagos is the hub of the Nigerian traditional media. It also has the widest Internet coverage and the highest number of Internet users in the country.”\n",
      "Sanwo-Olu said setting a practicable governing agenda had empowered successive administrations in Lagos to quickly gain citizens’ acceptance. He advised the governors to consider setting a governing agenda that would have memorable acronyms and mantras.\n",
      "Lagos, the Governor cited, operates on THEMES agenda with ‘Greater Lagos’ mantra, while Ogun State projects governance activities by ISEYA, which literally means “let’s get on with work”.\n",
      "Sanwo-Olu said the governing agenda would help drive focus since no administration can do everything at once, while also helping to streamline and organise government communications.\n",
      "He said government communications must be proactive, regular and simplified. Social media, he said, should be given attention as much as the traditional media, while leveraging technology for effective communication channels.\n",
      "Sanwo-Olu said it was important to maintain engagements with critical stakeholders and development partners, including the presidency, colleagues- governors, legislature, National Economic Council (NEC), multilateral institutions.\n",
      "Sanwo-Olu emphasised the role of Deputy Governor, saying any governor looking forward to a stable government should see his deputy as partner and not as spare tyre. \n",
      "He said: “From the moment you are elected, you already have one guaranteed member of the team – your Deputy Governor. The relationship between a Governor and a Deputy Governor is highly important and must be carefully managed as it can significantly impact the workings and efficiency of your government.\n",
      "“Managing and resolving conflicts and disputes is an important part of the work of any Governor. Conflicts will arise within the team, as well as in other areas of the Government that will need to be promptly resolved, to avoid dampening morale and impacting the collegial spirit required to succeed.”\n",
      "Sanwo-Olu also shared tips on budgeting and project execution, assembling cabinet and governance structure, administrative style and management, and appointment of political aides.\n",
      "\n",
      "\n",
      "\n",
      "\n",
      "\n",
      "\n",
      "SIGNED\n",
      "GBOYEGA AKOSILE\n",
      "CHIEF PRESS SECRETARY\n",
      "\n",
      "THE PARTY IS SUPREME : CROSS RIVER STATE LEGISLATORS DECLARE AS THEY DISCLOSE THEIR POSITION ON THE LEADERSHIP OF THE 10TH NATIONAL ASSEMBLY\n",
      "May 14, 2023\n",
      "['News', 'Politics']\n",
      "https://lagostoday.com.ng/the-party-is-supreme-cross-river-state-legislators-declare-as-they-disclose-their-position-on-the-leadership-of-the-10th-national-assembly/\n",
      "\n",
      "    By Beatrice Akpala\n",
      "As the nation waits with great anticipation and amidst the political horse trading, political calculations, inner schemes and jostling for the various leadership positions of the yet to be inaugurated 10th National Assembly, the elected representatives from Cross River State, have made their position known as to whom to support to clinch the various positions, when eventually the National Assembly is inaugurated in June, 2023.The 10th National Assembly is unarguably the most anticipated Assembly in the history of Nigerian democracy.The very intimidating calibre of those angling for the positions is already public knowledge and their top notch political pedigree, experience and personal credentials will come into close focus.With the above anticipated scenario, every Nigerian expects to see viable and robust representation exhibited by their Representatives at all quarters and in effect, the performances of the representatives will definitely be called to question.It has therefore become quite compelling and imperative for the elected representatives from Cross River State, to take a practical decision amongst themselves on their unapologetic positions as they manoeuvre through the rather complicated process of choosing or supporting whoever for the exalted leadership positions of the incoming National Assembly.\n",
      "Conversely, their  decision must not only be ably guided by the desire to continuously put Cross River State in national reckoning but to also elect those who would in the long run, be supportive of federal government programmes and projects in the state.\n",
      "It was with this factors in mind that majority of the representatives from Cross River State irrespective of political party affiliations, have resolved that the party is supreme and they would continue to give their unalloyed loyalty and support to the ruling All Progressives Congress (APC). \n",
      "The State National Assembly members pledged to be at the centre of decision making and reiterated the fact that Cross River State stands as the only State in the entire South‐South region that is ruled by the All Progressives Congress and majority of the law makers are of the ruling party.\n",
      "In conformity with better reasoning therefore, they all resolved to continuously offer their unalloyed loyalty, solidarity and goodwill to the APC and its leader in the South ‐ South, Senator Prof. Ben Ayade, Governor of Cross River State.In doing this, the returning and potential law makers from the State believe very strongly in the ability and leadership credentials as well as the possibility of a resounding victory of Rt. Hon. Abbas Tajudeen, whom they all described as an astute and very experienced public service administrator cum suave political figure.They reasoned and quite understandably too that his leadership of the National Assembly will surely reposition the 10th National Assembly and take it to a new and better height of legislative glory.\n",
      "Equally, the Cross River State legislators are of the opinion that the supremacy of the party must come to play and since Rt. Hon. Abbas Tajudeen is of the ruling party, he will, in conjunction with his colleagues and the bearings of his political sagacity, bring in new ethics and ably transform the national legislative body to a towering pedestal.\n",
      "The Cross River State House of Representatives elects also reiterated their preparedness to put up a workable and beneficial A Game to enable them to deliver on their mandate by making the good people of Cross River State see the benefits of their contributions in the National Assembly.\n",
      " The various elected representatives reasoned that it was in the same National Assembly that some representatives from other States cooperated with each other regardless of party differences to draw many developmental projects to their States and that they are all first of all Cross Riverians before their respective political affiliations.\n",
      "\n",
      "In unison and in deep appreciation of the fatherly roles and the effective leadership which enabled them to get elected, they all thanked His Excellency, Senator Prof Ben Ayade, Governor of Cross River State for providing them with the platform with which they are flourishing politically.\n",
      "With the grounds set for an epic legislative session that would produce the leadership of the two Chambers of the National Assembly, all hopes are hinged on the outlook, performance and results that will emerge from Cross River State representatives at the 10th National Assembly.\n",
      "\n",
      "\n",
      "SANWO-OLU RECEIVES REPS LEADERSHIP ASPIRANTS, URGES LAWMAKERS-ELECT TO PRIORITISE PEOPLE’S INTERESTS\n",
      "May 13, 2023\n",
      "['News', 'Politics']\n",
      "https://lagostoday.com.ng/sanwo-olu-receives-reps-leadership-aspirants-urges-lawmakers-elect-to-prioritise-peoples-interests/\n"
     ]
    },
    {
     "ename": "KeyboardInterrupt",
     "evalue": "",
     "output_type": "error",
     "traceback": [
      "\u001b[0;31m---------------------------------------------------------------------------\u001b[0m",
      "\u001b[0;31mKeyboardInterrupt\u001b[0m                         Traceback (most recent call last)",
      "Input \u001b[0;32mIn [7]\u001b[0m, in \u001b[0;36m<cell line: 4>\u001b[0;34m()\u001b[0m\n\u001b[1;32m     15\u001b[0m \u001b[38;5;28mprint\u001b[39m(categories_text)\n\u001b[1;32m     16\u001b[0m \u001b[38;5;28mprint\u001b[39m(article\u001b[38;5;241m.\u001b[39mdiv\u001b[38;5;241m.\u001b[39mdiv\u001b[38;5;241m.\u001b[39ma[\u001b[38;5;124m\"\u001b[39m\u001b[38;5;124mhref\u001b[39m\u001b[38;5;124m\"\u001b[39m])\n\u001b[0;32m---> 17\u001b[0m \u001b[38;5;28mprint\u001b[39m(\u001b[43mget_full_article_text\u001b[49m\u001b[43m(\u001b[49m\u001b[43marticle\u001b[49m\u001b[38;5;241;43m.\u001b[39;49m\u001b[43mdiv\u001b[49m\u001b[38;5;241;43m.\u001b[39;49m\u001b[43mdiv\u001b[49m\u001b[38;5;241;43m.\u001b[39;49m\u001b[43ma\u001b[49m\u001b[43m[\u001b[49m\u001b[38;5;124;43m\"\u001b[39;49m\u001b[38;5;124;43mhref\u001b[39;49m\u001b[38;5;124;43m\"\u001b[39;49m\u001b[43m]\u001b[49m\u001b[43m)\u001b[49m)\n",
      "Input \u001b[0;32mIn [6]\u001b[0m, in \u001b[0;36mget_full_article_text\u001b[0;34m(article_url)\u001b[0m\n\u001b[1;32m      4\u001b[0m \u001b[38;5;28;01mdef\u001b[39;00m \u001b[38;5;21mget_full_article_text\u001b[39m(article_url):\n\u001b[0;32m----> 5\u001b[0m     article_html \u001b[38;5;241m=\u001b[39m \u001b[43mrequests\u001b[49m\u001b[38;5;241;43m.\u001b[39;49m\u001b[43mget\u001b[49m\u001b[43m(\u001b[49m\u001b[43marticle_url\u001b[49m\u001b[43m)\u001b[49m\u001b[38;5;241m.\u001b[39mtext\n\u001b[1;32m      6\u001b[0m     article_soup \u001b[38;5;241m=\u001b[39m BeautifulSoup(article_html)\n\u001b[1;32m      7\u001b[0m     \u001b[38;5;28;01mreturn\u001b[39;00m article_soup\u001b[38;5;241m.\u001b[39mfind(\u001b[38;5;124m\"\u001b[39m\u001b[38;5;124mdiv\u001b[39m\u001b[38;5;124m\"\u001b[39m, class_\u001b[38;5;241m=\u001b[39m\u001b[38;5;124m\"\u001b[39m\u001b[38;5;124mentry-content\u001b[39m\u001b[38;5;124m\"\u001b[39m)\u001b[38;5;241m.\u001b[39mtext\n",
      "File \u001b[0;32m~/.pyenv/versions/3.10.3/lib/python3.10/site-packages/requests/api.py:73\u001b[0m, in \u001b[0;36mget\u001b[0;34m(url, params, **kwargs)\u001b[0m\n\u001b[1;32m     62\u001b[0m \u001b[38;5;28;01mdef\u001b[39;00m \u001b[38;5;21mget\u001b[39m(url, params\u001b[38;5;241m=\u001b[39m\u001b[38;5;28;01mNone\u001b[39;00m, \u001b[38;5;241m*\u001b[39m\u001b[38;5;241m*\u001b[39mkwargs):\n\u001b[1;32m     63\u001b[0m     \u001b[38;5;124mr\u001b[39m\u001b[38;5;124;03m\"\"\"Sends a GET request.\u001b[39;00m\n\u001b[1;32m     64\u001b[0m \n\u001b[1;32m     65\u001b[0m \u001b[38;5;124;03m    :param url: URL for the new :class:`Request` object.\u001b[39;00m\n\u001b[0;32m   (...)\u001b[0m\n\u001b[1;32m     70\u001b[0m \u001b[38;5;124;03m    :rtype: requests.Response\u001b[39;00m\n\u001b[1;32m     71\u001b[0m \u001b[38;5;124;03m    \"\"\"\u001b[39;00m\n\u001b[0;32m---> 73\u001b[0m     \u001b[38;5;28;01mreturn\u001b[39;00m \u001b[43mrequest\u001b[49m\u001b[43m(\u001b[49m\u001b[38;5;124;43m\"\u001b[39;49m\u001b[38;5;124;43mget\u001b[39;49m\u001b[38;5;124;43m\"\u001b[39;49m\u001b[43m,\u001b[49m\u001b[43m \u001b[49m\u001b[43murl\u001b[49m\u001b[43m,\u001b[49m\u001b[43m \u001b[49m\u001b[43mparams\u001b[49m\u001b[38;5;241;43m=\u001b[39;49m\u001b[43mparams\u001b[49m\u001b[43m,\u001b[49m\u001b[43m \u001b[49m\u001b[38;5;241;43m*\u001b[39;49m\u001b[38;5;241;43m*\u001b[39;49m\u001b[43mkwargs\u001b[49m\u001b[43m)\u001b[49m\n",
      "File \u001b[0;32m~/.pyenv/versions/3.10.3/lib/python3.10/site-packages/requests/api.py:59\u001b[0m, in \u001b[0;36mrequest\u001b[0;34m(method, url, **kwargs)\u001b[0m\n\u001b[1;32m     55\u001b[0m \u001b[38;5;66;03m# By using the 'with' statement we are sure the session is closed, thus we\u001b[39;00m\n\u001b[1;32m     56\u001b[0m \u001b[38;5;66;03m# avoid leaving sockets open which can trigger a ResourceWarning in some\u001b[39;00m\n\u001b[1;32m     57\u001b[0m \u001b[38;5;66;03m# cases, and look like a memory leak in others.\u001b[39;00m\n\u001b[1;32m     58\u001b[0m \u001b[38;5;28;01mwith\u001b[39;00m sessions\u001b[38;5;241m.\u001b[39mSession() \u001b[38;5;28;01mas\u001b[39;00m session:\n\u001b[0;32m---> 59\u001b[0m     \u001b[38;5;28;01mreturn\u001b[39;00m \u001b[43msession\u001b[49m\u001b[38;5;241;43m.\u001b[39;49m\u001b[43mrequest\u001b[49m\u001b[43m(\u001b[49m\u001b[43mmethod\u001b[49m\u001b[38;5;241;43m=\u001b[39;49m\u001b[43mmethod\u001b[49m\u001b[43m,\u001b[49m\u001b[43m \u001b[49m\u001b[43murl\u001b[49m\u001b[38;5;241;43m=\u001b[39;49m\u001b[43murl\u001b[49m\u001b[43m,\u001b[49m\u001b[43m \u001b[49m\u001b[38;5;241;43m*\u001b[39;49m\u001b[38;5;241;43m*\u001b[39;49m\u001b[43mkwargs\u001b[49m\u001b[43m)\u001b[49m\n",
      "File \u001b[0;32m~/.pyenv/versions/3.10.3/lib/python3.10/site-packages/requests/sessions.py:587\u001b[0m, in \u001b[0;36mSession.request\u001b[0;34m(self, method, url, params, data, headers, cookies, files, auth, timeout, allow_redirects, proxies, hooks, stream, verify, cert, json)\u001b[0m\n\u001b[1;32m    582\u001b[0m send_kwargs \u001b[38;5;241m=\u001b[39m {\n\u001b[1;32m    583\u001b[0m     \u001b[38;5;124m\"\u001b[39m\u001b[38;5;124mtimeout\u001b[39m\u001b[38;5;124m\"\u001b[39m: timeout,\n\u001b[1;32m    584\u001b[0m     \u001b[38;5;124m\"\u001b[39m\u001b[38;5;124mallow_redirects\u001b[39m\u001b[38;5;124m\"\u001b[39m: allow_redirects,\n\u001b[1;32m    585\u001b[0m }\n\u001b[1;32m    586\u001b[0m send_kwargs\u001b[38;5;241m.\u001b[39mupdate(settings)\n\u001b[0;32m--> 587\u001b[0m resp \u001b[38;5;241m=\u001b[39m \u001b[38;5;28;43mself\u001b[39;49m\u001b[38;5;241;43m.\u001b[39;49m\u001b[43msend\u001b[49m\u001b[43m(\u001b[49m\u001b[43mprep\u001b[49m\u001b[43m,\u001b[49m\u001b[43m \u001b[49m\u001b[38;5;241;43m*\u001b[39;49m\u001b[38;5;241;43m*\u001b[39;49m\u001b[43msend_kwargs\u001b[49m\u001b[43m)\u001b[49m\n\u001b[1;32m    589\u001b[0m \u001b[38;5;28;01mreturn\u001b[39;00m resp\n",
      "File \u001b[0;32m~/.pyenv/versions/3.10.3/lib/python3.10/site-packages/requests/sessions.py:701\u001b[0m, in \u001b[0;36mSession.send\u001b[0;34m(self, request, **kwargs)\u001b[0m\n\u001b[1;32m    698\u001b[0m start \u001b[38;5;241m=\u001b[39m preferred_clock()\n\u001b[1;32m    700\u001b[0m \u001b[38;5;66;03m# Send the request\u001b[39;00m\n\u001b[0;32m--> 701\u001b[0m r \u001b[38;5;241m=\u001b[39m \u001b[43madapter\u001b[49m\u001b[38;5;241;43m.\u001b[39;49m\u001b[43msend\u001b[49m\u001b[43m(\u001b[49m\u001b[43mrequest\u001b[49m\u001b[43m,\u001b[49m\u001b[43m \u001b[49m\u001b[38;5;241;43m*\u001b[39;49m\u001b[38;5;241;43m*\u001b[39;49m\u001b[43mkwargs\u001b[49m\u001b[43m)\u001b[49m\n\u001b[1;32m    703\u001b[0m \u001b[38;5;66;03m# Total elapsed time of the request (approximately)\u001b[39;00m\n\u001b[1;32m    704\u001b[0m elapsed \u001b[38;5;241m=\u001b[39m preferred_clock() \u001b[38;5;241m-\u001b[39m start\n",
      "File \u001b[0;32m~/.pyenv/versions/3.10.3/lib/python3.10/site-packages/requests/adapters.py:489\u001b[0m, in \u001b[0;36mHTTPAdapter.send\u001b[0;34m(self, request, stream, timeout, verify, cert, proxies)\u001b[0m\n\u001b[1;32m    487\u001b[0m \u001b[38;5;28;01mtry\u001b[39;00m:\n\u001b[1;32m    488\u001b[0m     \u001b[38;5;28;01mif\u001b[39;00m \u001b[38;5;129;01mnot\u001b[39;00m chunked:\n\u001b[0;32m--> 489\u001b[0m         resp \u001b[38;5;241m=\u001b[39m \u001b[43mconn\u001b[49m\u001b[38;5;241;43m.\u001b[39;49m\u001b[43murlopen\u001b[49m\u001b[43m(\u001b[49m\n\u001b[1;32m    490\u001b[0m \u001b[43m            \u001b[49m\u001b[43mmethod\u001b[49m\u001b[38;5;241;43m=\u001b[39;49m\u001b[43mrequest\u001b[49m\u001b[38;5;241;43m.\u001b[39;49m\u001b[43mmethod\u001b[49m\u001b[43m,\u001b[49m\n\u001b[1;32m    491\u001b[0m \u001b[43m            \u001b[49m\u001b[43murl\u001b[49m\u001b[38;5;241;43m=\u001b[39;49m\u001b[43murl\u001b[49m\u001b[43m,\u001b[49m\n\u001b[1;32m    492\u001b[0m \u001b[43m            \u001b[49m\u001b[43mbody\u001b[49m\u001b[38;5;241;43m=\u001b[39;49m\u001b[43mrequest\u001b[49m\u001b[38;5;241;43m.\u001b[39;49m\u001b[43mbody\u001b[49m\u001b[43m,\u001b[49m\n\u001b[1;32m    493\u001b[0m \u001b[43m            \u001b[49m\u001b[43mheaders\u001b[49m\u001b[38;5;241;43m=\u001b[39;49m\u001b[43mrequest\u001b[49m\u001b[38;5;241;43m.\u001b[39;49m\u001b[43mheaders\u001b[49m\u001b[43m,\u001b[49m\n\u001b[1;32m    494\u001b[0m \u001b[43m            \u001b[49m\u001b[43mredirect\u001b[49m\u001b[38;5;241;43m=\u001b[39;49m\u001b[38;5;28;43;01mFalse\u001b[39;49;00m\u001b[43m,\u001b[49m\n\u001b[1;32m    495\u001b[0m \u001b[43m            \u001b[49m\u001b[43massert_same_host\u001b[49m\u001b[38;5;241;43m=\u001b[39;49m\u001b[38;5;28;43;01mFalse\u001b[39;49;00m\u001b[43m,\u001b[49m\n\u001b[1;32m    496\u001b[0m \u001b[43m            \u001b[49m\u001b[43mpreload_content\u001b[49m\u001b[38;5;241;43m=\u001b[39;49m\u001b[38;5;28;43;01mFalse\u001b[39;49;00m\u001b[43m,\u001b[49m\n\u001b[1;32m    497\u001b[0m \u001b[43m            \u001b[49m\u001b[43mdecode_content\u001b[49m\u001b[38;5;241;43m=\u001b[39;49m\u001b[38;5;28;43;01mFalse\u001b[39;49;00m\u001b[43m,\u001b[49m\n\u001b[1;32m    498\u001b[0m \u001b[43m            \u001b[49m\u001b[43mretries\u001b[49m\u001b[38;5;241;43m=\u001b[39;49m\u001b[38;5;28;43mself\u001b[39;49m\u001b[38;5;241;43m.\u001b[39;49m\u001b[43mmax_retries\u001b[49m\u001b[43m,\u001b[49m\n\u001b[1;32m    499\u001b[0m \u001b[43m            \u001b[49m\u001b[43mtimeout\u001b[49m\u001b[38;5;241;43m=\u001b[39;49m\u001b[43mtimeout\u001b[49m\u001b[43m,\u001b[49m\n\u001b[1;32m    500\u001b[0m \u001b[43m        \u001b[49m\u001b[43m)\u001b[49m\n\u001b[1;32m    502\u001b[0m     \u001b[38;5;66;03m# Send the request.\u001b[39;00m\n\u001b[1;32m    503\u001b[0m     \u001b[38;5;28;01melse\u001b[39;00m:\n\u001b[1;32m    504\u001b[0m         \u001b[38;5;28;01mif\u001b[39;00m \u001b[38;5;28mhasattr\u001b[39m(conn, \u001b[38;5;124m\"\u001b[39m\u001b[38;5;124mproxy_pool\u001b[39m\u001b[38;5;124m\"\u001b[39m):\n",
      "File \u001b[0;32m~/.pyenv/versions/3.10.3/lib/python3.10/site-packages/urllib3/connectionpool.py:703\u001b[0m, in \u001b[0;36mHTTPConnectionPool.urlopen\u001b[0;34m(self, method, url, body, headers, retries, redirect, assert_same_host, timeout, pool_timeout, release_conn, chunked, body_pos, **response_kw)\u001b[0m\n\u001b[1;32m    700\u001b[0m     \u001b[38;5;28mself\u001b[39m\u001b[38;5;241m.\u001b[39m_prepare_proxy(conn)\n\u001b[1;32m    702\u001b[0m \u001b[38;5;66;03m# Make the request on the httplib connection object.\u001b[39;00m\n\u001b[0;32m--> 703\u001b[0m httplib_response \u001b[38;5;241m=\u001b[39m \u001b[38;5;28;43mself\u001b[39;49m\u001b[38;5;241;43m.\u001b[39;49m\u001b[43m_make_request\u001b[49m\u001b[43m(\u001b[49m\n\u001b[1;32m    704\u001b[0m \u001b[43m    \u001b[49m\u001b[43mconn\u001b[49m\u001b[43m,\u001b[49m\n\u001b[1;32m    705\u001b[0m \u001b[43m    \u001b[49m\u001b[43mmethod\u001b[49m\u001b[43m,\u001b[49m\n\u001b[1;32m    706\u001b[0m \u001b[43m    \u001b[49m\u001b[43murl\u001b[49m\u001b[43m,\u001b[49m\n\u001b[1;32m    707\u001b[0m \u001b[43m    \u001b[49m\u001b[43mtimeout\u001b[49m\u001b[38;5;241;43m=\u001b[39;49m\u001b[43mtimeout_obj\u001b[49m\u001b[43m,\u001b[49m\n\u001b[1;32m    708\u001b[0m \u001b[43m    \u001b[49m\u001b[43mbody\u001b[49m\u001b[38;5;241;43m=\u001b[39;49m\u001b[43mbody\u001b[49m\u001b[43m,\u001b[49m\n\u001b[1;32m    709\u001b[0m \u001b[43m    \u001b[49m\u001b[43mheaders\u001b[49m\u001b[38;5;241;43m=\u001b[39;49m\u001b[43mheaders\u001b[49m\u001b[43m,\u001b[49m\n\u001b[1;32m    710\u001b[0m \u001b[43m    \u001b[49m\u001b[43mchunked\u001b[49m\u001b[38;5;241;43m=\u001b[39;49m\u001b[43mchunked\u001b[49m\u001b[43m,\u001b[49m\n\u001b[1;32m    711\u001b[0m \u001b[43m\u001b[49m\u001b[43m)\u001b[49m\n\u001b[1;32m    713\u001b[0m \u001b[38;5;66;03m# If we're going to release the connection in ``finally:``, then\u001b[39;00m\n\u001b[1;32m    714\u001b[0m \u001b[38;5;66;03m# the response doesn't need to know about the connection. Otherwise\u001b[39;00m\n\u001b[1;32m    715\u001b[0m \u001b[38;5;66;03m# it will also try to release it and we'll have a double-release\u001b[39;00m\n\u001b[1;32m    716\u001b[0m \u001b[38;5;66;03m# mess.\u001b[39;00m\n\u001b[1;32m    717\u001b[0m response_conn \u001b[38;5;241m=\u001b[39m conn \u001b[38;5;28;01mif\u001b[39;00m \u001b[38;5;129;01mnot\u001b[39;00m release_conn \u001b[38;5;28;01melse\u001b[39;00m \u001b[38;5;28;01mNone\u001b[39;00m\n",
      "File \u001b[0;32m~/.pyenv/versions/3.10.3/lib/python3.10/site-packages/urllib3/connectionpool.py:386\u001b[0m, in \u001b[0;36mHTTPConnectionPool._make_request\u001b[0;34m(self, conn, method, url, timeout, chunked, **httplib_request_kw)\u001b[0m\n\u001b[1;32m    384\u001b[0m \u001b[38;5;66;03m# Trigger any extra validation we need to do.\u001b[39;00m\n\u001b[1;32m    385\u001b[0m \u001b[38;5;28;01mtry\u001b[39;00m:\n\u001b[0;32m--> 386\u001b[0m     \u001b[38;5;28;43mself\u001b[39;49m\u001b[38;5;241;43m.\u001b[39;49m\u001b[43m_validate_conn\u001b[49m\u001b[43m(\u001b[49m\u001b[43mconn\u001b[49m\u001b[43m)\u001b[49m\n\u001b[1;32m    387\u001b[0m \u001b[38;5;28;01mexcept\u001b[39;00m (SocketTimeout, BaseSSLError) \u001b[38;5;28;01mas\u001b[39;00m e:\n\u001b[1;32m    388\u001b[0m     \u001b[38;5;66;03m# Py2 raises this as a BaseSSLError, Py3 raises it as socket timeout.\u001b[39;00m\n\u001b[1;32m    389\u001b[0m     \u001b[38;5;28mself\u001b[39m\u001b[38;5;241m.\u001b[39m_raise_timeout(err\u001b[38;5;241m=\u001b[39me, url\u001b[38;5;241m=\u001b[39murl, timeout_value\u001b[38;5;241m=\u001b[39mconn\u001b[38;5;241m.\u001b[39mtimeout)\n",
      "File \u001b[0;32m~/.pyenv/versions/3.10.3/lib/python3.10/site-packages/urllib3/connectionpool.py:1040\u001b[0m, in \u001b[0;36mHTTPSConnectionPool._validate_conn\u001b[0;34m(self, conn)\u001b[0m\n\u001b[1;32m   1038\u001b[0m \u001b[38;5;66;03m# Force connect early to allow us to validate the connection.\u001b[39;00m\n\u001b[1;32m   1039\u001b[0m \u001b[38;5;28;01mif\u001b[39;00m \u001b[38;5;129;01mnot\u001b[39;00m \u001b[38;5;28mgetattr\u001b[39m(conn, \u001b[38;5;124m\"\u001b[39m\u001b[38;5;124msock\u001b[39m\u001b[38;5;124m\"\u001b[39m, \u001b[38;5;28;01mNone\u001b[39;00m):  \u001b[38;5;66;03m# AppEngine might not have  `.sock`\u001b[39;00m\n\u001b[0;32m-> 1040\u001b[0m     \u001b[43mconn\u001b[49m\u001b[38;5;241;43m.\u001b[39;49m\u001b[43mconnect\u001b[49m\u001b[43m(\u001b[49m\u001b[43m)\u001b[49m\n\u001b[1;32m   1042\u001b[0m \u001b[38;5;28;01mif\u001b[39;00m \u001b[38;5;129;01mnot\u001b[39;00m conn\u001b[38;5;241m.\u001b[39mis_verified:\n\u001b[1;32m   1043\u001b[0m     warnings\u001b[38;5;241m.\u001b[39mwarn(\n\u001b[1;32m   1044\u001b[0m         (\n\u001b[1;32m   1045\u001b[0m             \u001b[38;5;124m\"\u001b[39m\u001b[38;5;124mUnverified HTTPS request is being made to host \u001b[39m\u001b[38;5;124m'\u001b[39m\u001b[38;5;132;01m%s\u001b[39;00m\u001b[38;5;124m'\u001b[39m\u001b[38;5;124m. \u001b[39m\u001b[38;5;124m\"\u001b[39m\n\u001b[0;32m   (...)\u001b[0m\n\u001b[1;32m   1050\u001b[0m         InsecureRequestWarning,\n\u001b[1;32m   1051\u001b[0m     )\n",
      "File \u001b[0;32m~/.pyenv/versions/3.10.3/lib/python3.10/site-packages/urllib3/connection.py:414\u001b[0m, in \u001b[0;36mHTTPSConnection.connect\u001b[0;34m(self)\u001b[0m\n\u001b[1;32m    405\u001b[0m \u001b[38;5;28;01mif\u001b[39;00m (\n\u001b[1;32m    406\u001b[0m     \u001b[38;5;129;01mnot\u001b[39;00m \u001b[38;5;28mself\u001b[39m\u001b[38;5;241m.\u001b[39mca_certs\n\u001b[1;32m    407\u001b[0m     \u001b[38;5;129;01mand\u001b[39;00m \u001b[38;5;129;01mnot\u001b[39;00m \u001b[38;5;28mself\u001b[39m\u001b[38;5;241m.\u001b[39mca_cert_dir\n\u001b[0;32m   (...)\u001b[0m\n\u001b[1;32m    410\u001b[0m     \u001b[38;5;129;01mand\u001b[39;00m \u001b[38;5;28mhasattr\u001b[39m(context, \u001b[38;5;124m\"\u001b[39m\u001b[38;5;124mload_default_certs\u001b[39m\u001b[38;5;124m\"\u001b[39m)\n\u001b[1;32m    411\u001b[0m ):\n\u001b[1;32m    412\u001b[0m     context\u001b[38;5;241m.\u001b[39mload_default_certs()\n\u001b[0;32m--> 414\u001b[0m \u001b[38;5;28mself\u001b[39m\u001b[38;5;241m.\u001b[39msock \u001b[38;5;241m=\u001b[39m \u001b[43mssl_wrap_socket\u001b[49m\u001b[43m(\u001b[49m\n\u001b[1;32m    415\u001b[0m \u001b[43m    \u001b[49m\u001b[43msock\u001b[49m\u001b[38;5;241;43m=\u001b[39;49m\u001b[43mconn\u001b[49m\u001b[43m,\u001b[49m\n\u001b[1;32m    416\u001b[0m \u001b[43m    \u001b[49m\u001b[43mkeyfile\u001b[49m\u001b[38;5;241;43m=\u001b[39;49m\u001b[38;5;28;43mself\u001b[39;49m\u001b[38;5;241;43m.\u001b[39;49m\u001b[43mkey_file\u001b[49m\u001b[43m,\u001b[49m\n\u001b[1;32m    417\u001b[0m \u001b[43m    \u001b[49m\u001b[43mcertfile\u001b[49m\u001b[38;5;241;43m=\u001b[39;49m\u001b[38;5;28;43mself\u001b[39;49m\u001b[38;5;241;43m.\u001b[39;49m\u001b[43mcert_file\u001b[49m\u001b[43m,\u001b[49m\n\u001b[1;32m    418\u001b[0m \u001b[43m    \u001b[49m\u001b[43mkey_password\u001b[49m\u001b[38;5;241;43m=\u001b[39;49m\u001b[38;5;28;43mself\u001b[39;49m\u001b[38;5;241;43m.\u001b[39;49m\u001b[43mkey_password\u001b[49m\u001b[43m,\u001b[49m\n\u001b[1;32m    419\u001b[0m \u001b[43m    \u001b[49m\u001b[43mca_certs\u001b[49m\u001b[38;5;241;43m=\u001b[39;49m\u001b[38;5;28;43mself\u001b[39;49m\u001b[38;5;241;43m.\u001b[39;49m\u001b[43mca_certs\u001b[49m\u001b[43m,\u001b[49m\n\u001b[1;32m    420\u001b[0m \u001b[43m    \u001b[49m\u001b[43mca_cert_dir\u001b[49m\u001b[38;5;241;43m=\u001b[39;49m\u001b[38;5;28;43mself\u001b[39;49m\u001b[38;5;241;43m.\u001b[39;49m\u001b[43mca_cert_dir\u001b[49m\u001b[43m,\u001b[49m\n\u001b[1;32m    421\u001b[0m \u001b[43m    \u001b[49m\u001b[43mca_cert_data\u001b[49m\u001b[38;5;241;43m=\u001b[39;49m\u001b[38;5;28;43mself\u001b[39;49m\u001b[38;5;241;43m.\u001b[39;49m\u001b[43mca_cert_data\u001b[49m\u001b[43m,\u001b[49m\n\u001b[1;32m    422\u001b[0m \u001b[43m    \u001b[49m\u001b[43mserver_hostname\u001b[49m\u001b[38;5;241;43m=\u001b[39;49m\u001b[43mserver_hostname\u001b[49m\u001b[43m,\u001b[49m\n\u001b[1;32m    423\u001b[0m \u001b[43m    \u001b[49m\u001b[43mssl_context\u001b[49m\u001b[38;5;241;43m=\u001b[39;49m\u001b[43mcontext\u001b[49m\u001b[43m,\u001b[49m\n\u001b[1;32m    424\u001b[0m \u001b[43m    \u001b[49m\u001b[43mtls_in_tls\u001b[49m\u001b[38;5;241;43m=\u001b[39;49m\u001b[43mtls_in_tls\u001b[49m\u001b[43m,\u001b[49m\n\u001b[1;32m    425\u001b[0m \u001b[43m\u001b[49m\u001b[43m)\u001b[49m\n\u001b[1;32m    427\u001b[0m \u001b[38;5;66;03m# If we're using all defaults and the connection\u001b[39;00m\n\u001b[1;32m    428\u001b[0m \u001b[38;5;66;03m# is TLSv1 or TLSv1.1 we throw a DeprecationWarning\u001b[39;00m\n\u001b[1;32m    429\u001b[0m \u001b[38;5;66;03m# for the host.\u001b[39;00m\n\u001b[1;32m    430\u001b[0m \u001b[38;5;28;01mif\u001b[39;00m (\n\u001b[1;32m    431\u001b[0m     default_ssl_context\n\u001b[1;32m    432\u001b[0m     \u001b[38;5;129;01mand\u001b[39;00m \u001b[38;5;28mself\u001b[39m\u001b[38;5;241m.\u001b[39mssl_version \u001b[38;5;129;01mis\u001b[39;00m \u001b[38;5;28;01mNone\u001b[39;00m\n\u001b[1;32m    433\u001b[0m     \u001b[38;5;129;01mand\u001b[39;00m \u001b[38;5;28mhasattr\u001b[39m(\u001b[38;5;28mself\u001b[39m\u001b[38;5;241m.\u001b[39msock, \u001b[38;5;124m\"\u001b[39m\u001b[38;5;124mversion\u001b[39m\u001b[38;5;124m\"\u001b[39m)\n\u001b[1;32m    434\u001b[0m     \u001b[38;5;129;01mand\u001b[39;00m \u001b[38;5;28mself\u001b[39m\u001b[38;5;241m.\u001b[39msock\u001b[38;5;241m.\u001b[39mversion() \u001b[38;5;129;01min\u001b[39;00m {\u001b[38;5;124m\"\u001b[39m\u001b[38;5;124mTLSv1\u001b[39m\u001b[38;5;124m\"\u001b[39m, \u001b[38;5;124m\"\u001b[39m\u001b[38;5;124mTLSv1.1\u001b[39m\u001b[38;5;124m\"\u001b[39m}\n\u001b[1;32m    435\u001b[0m ):\n",
      "File \u001b[0;32m~/.pyenv/versions/3.10.3/lib/python3.10/site-packages/urllib3/util/ssl_.py:449\u001b[0m, in \u001b[0;36mssl_wrap_socket\u001b[0;34m(sock, keyfile, certfile, cert_reqs, ca_certs, server_hostname, ssl_version, ciphers, ssl_context, ca_cert_dir, key_password, ca_cert_data, tls_in_tls)\u001b[0m\n\u001b[1;32m    437\u001b[0m     warnings\u001b[38;5;241m.\u001b[39mwarn(\n\u001b[1;32m    438\u001b[0m         \u001b[38;5;124m\"\u001b[39m\u001b[38;5;124mAn HTTPS request has been made, but the SNI (Server Name \u001b[39m\u001b[38;5;124m\"\u001b[39m\n\u001b[1;32m    439\u001b[0m         \u001b[38;5;124m\"\u001b[39m\u001b[38;5;124mIndication) extension to TLS is not available on this platform. \u001b[39m\u001b[38;5;124m\"\u001b[39m\n\u001b[0;32m   (...)\u001b[0m\n\u001b[1;32m    445\u001b[0m         SNIMissingWarning,\n\u001b[1;32m    446\u001b[0m     )\n\u001b[1;32m    448\u001b[0m \u001b[38;5;28;01mif\u001b[39;00m send_sni:\n\u001b[0;32m--> 449\u001b[0m     ssl_sock \u001b[38;5;241m=\u001b[39m \u001b[43m_ssl_wrap_socket_impl\u001b[49m\u001b[43m(\u001b[49m\n\u001b[1;32m    450\u001b[0m \u001b[43m        \u001b[49m\u001b[43msock\u001b[49m\u001b[43m,\u001b[49m\u001b[43m \u001b[49m\u001b[43mcontext\u001b[49m\u001b[43m,\u001b[49m\u001b[43m \u001b[49m\u001b[43mtls_in_tls\u001b[49m\u001b[43m,\u001b[49m\u001b[43m \u001b[49m\u001b[43mserver_hostname\u001b[49m\u001b[38;5;241;43m=\u001b[39;49m\u001b[43mserver_hostname\u001b[49m\n\u001b[1;32m    451\u001b[0m \u001b[43m    \u001b[49m\u001b[43m)\u001b[49m\n\u001b[1;32m    452\u001b[0m \u001b[38;5;28;01melse\u001b[39;00m:\n\u001b[1;32m    453\u001b[0m     ssl_sock \u001b[38;5;241m=\u001b[39m _ssl_wrap_socket_impl(sock, context, tls_in_tls)\n",
      "File \u001b[0;32m~/.pyenv/versions/3.10.3/lib/python3.10/site-packages/urllib3/util/ssl_.py:493\u001b[0m, in \u001b[0;36m_ssl_wrap_socket_impl\u001b[0;34m(sock, ssl_context, tls_in_tls, server_hostname)\u001b[0m\n\u001b[1;32m    490\u001b[0m     \u001b[38;5;28;01mreturn\u001b[39;00m SSLTransport(sock, ssl_context, server_hostname)\n\u001b[1;32m    492\u001b[0m \u001b[38;5;28;01mif\u001b[39;00m server_hostname:\n\u001b[0;32m--> 493\u001b[0m     \u001b[38;5;28;01mreturn\u001b[39;00m \u001b[43mssl_context\u001b[49m\u001b[38;5;241;43m.\u001b[39;49m\u001b[43mwrap_socket\u001b[49m\u001b[43m(\u001b[49m\u001b[43msock\u001b[49m\u001b[43m,\u001b[49m\u001b[43m \u001b[49m\u001b[43mserver_hostname\u001b[49m\u001b[38;5;241;43m=\u001b[39;49m\u001b[43mserver_hostname\u001b[49m\u001b[43m)\u001b[49m\n\u001b[1;32m    494\u001b[0m \u001b[38;5;28;01melse\u001b[39;00m:\n\u001b[1;32m    495\u001b[0m     \u001b[38;5;28;01mreturn\u001b[39;00m ssl_context\u001b[38;5;241m.\u001b[39mwrap_socket(sock)\n",
      "File \u001b[0;32m~/.pyenv/versions/3.10.3/lib/python3.10/ssl.py:512\u001b[0m, in \u001b[0;36mSSLContext.wrap_socket\u001b[0;34m(self, sock, server_side, do_handshake_on_connect, suppress_ragged_eofs, server_hostname, session)\u001b[0m\n\u001b[1;32m    506\u001b[0m \u001b[38;5;28;01mdef\u001b[39;00m \u001b[38;5;21mwrap_socket\u001b[39m(\u001b[38;5;28mself\u001b[39m, sock, server_side\u001b[38;5;241m=\u001b[39m\u001b[38;5;28;01mFalse\u001b[39;00m,\n\u001b[1;32m    507\u001b[0m                 do_handshake_on_connect\u001b[38;5;241m=\u001b[39m\u001b[38;5;28;01mTrue\u001b[39;00m,\n\u001b[1;32m    508\u001b[0m                 suppress_ragged_eofs\u001b[38;5;241m=\u001b[39m\u001b[38;5;28;01mTrue\u001b[39;00m,\n\u001b[1;32m    509\u001b[0m                 server_hostname\u001b[38;5;241m=\u001b[39m\u001b[38;5;28;01mNone\u001b[39;00m, session\u001b[38;5;241m=\u001b[39m\u001b[38;5;28;01mNone\u001b[39;00m):\n\u001b[1;32m    510\u001b[0m     \u001b[38;5;66;03m# SSLSocket class handles server_hostname encoding before it calls\u001b[39;00m\n\u001b[1;32m    511\u001b[0m     \u001b[38;5;66;03m# ctx._wrap_socket()\u001b[39;00m\n\u001b[0;32m--> 512\u001b[0m     \u001b[38;5;28;01mreturn\u001b[39;00m \u001b[38;5;28;43mself\u001b[39;49m\u001b[38;5;241;43m.\u001b[39;49m\u001b[43msslsocket_class\u001b[49m\u001b[38;5;241;43m.\u001b[39;49m\u001b[43m_create\u001b[49m\u001b[43m(\u001b[49m\n\u001b[1;32m    513\u001b[0m \u001b[43m        \u001b[49m\u001b[43msock\u001b[49m\u001b[38;5;241;43m=\u001b[39;49m\u001b[43msock\u001b[49m\u001b[43m,\u001b[49m\n\u001b[1;32m    514\u001b[0m \u001b[43m        \u001b[49m\u001b[43mserver_side\u001b[49m\u001b[38;5;241;43m=\u001b[39;49m\u001b[43mserver_side\u001b[49m\u001b[43m,\u001b[49m\n\u001b[1;32m    515\u001b[0m \u001b[43m        \u001b[49m\u001b[43mdo_handshake_on_connect\u001b[49m\u001b[38;5;241;43m=\u001b[39;49m\u001b[43mdo_handshake_on_connect\u001b[49m\u001b[43m,\u001b[49m\n\u001b[1;32m    516\u001b[0m \u001b[43m        \u001b[49m\u001b[43msuppress_ragged_eofs\u001b[49m\u001b[38;5;241;43m=\u001b[39;49m\u001b[43msuppress_ragged_eofs\u001b[49m\u001b[43m,\u001b[49m\n\u001b[1;32m    517\u001b[0m \u001b[43m        \u001b[49m\u001b[43mserver_hostname\u001b[49m\u001b[38;5;241;43m=\u001b[39;49m\u001b[43mserver_hostname\u001b[49m\u001b[43m,\u001b[49m\n\u001b[1;32m    518\u001b[0m \u001b[43m        \u001b[49m\u001b[43mcontext\u001b[49m\u001b[38;5;241;43m=\u001b[39;49m\u001b[38;5;28;43mself\u001b[39;49m\u001b[43m,\u001b[49m\n\u001b[1;32m    519\u001b[0m \u001b[43m        \u001b[49m\u001b[43msession\u001b[49m\u001b[38;5;241;43m=\u001b[39;49m\u001b[43msession\u001b[49m\n\u001b[1;32m    520\u001b[0m \u001b[43m    \u001b[49m\u001b[43m)\u001b[49m\n",
      "File \u001b[0;32m~/.pyenv/versions/3.10.3/lib/python3.10/ssl.py:1070\u001b[0m, in \u001b[0;36mSSLSocket._create\u001b[0;34m(cls, sock, server_side, do_handshake_on_connect, suppress_ragged_eofs, server_hostname, context, session)\u001b[0m\n\u001b[1;32m   1067\u001b[0m         \u001b[38;5;28;01mif\u001b[39;00m timeout \u001b[38;5;241m==\u001b[39m \u001b[38;5;241m0.0\u001b[39m:\n\u001b[1;32m   1068\u001b[0m             \u001b[38;5;66;03m# non-blocking\u001b[39;00m\n\u001b[1;32m   1069\u001b[0m             \u001b[38;5;28;01mraise\u001b[39;00m \u001b[38;5;167;01mValueError\u001b[39;00m(\u001b[38;5;124m\"\u001b[39m\u001b[38;5;124mdo_handshake_on_connect should not be specified for non-blocking sockets\u001b[39m\u001b[38;5;124m\"\u001b[39m)\n\u001b[0;32m-> 1070\u001b[0m         \u001b[38;5;28;43mself\u001b[39;49m\u001b[38;5;241;43m.\u001b[39;49m\u001b[43mdo_handshake\u001b[49m\u001b[43m(\u001b[49m\u001b[43m)\u001b[49m\n\u001b[1;32m   1071\u001b[0m \u001b[38;5;28;01mexcept\u001b[39;00m (\u001b[38;5;167;01mOSError\u001b[39;00m, \u001b[38;5;167;01mValueError\u001b[39;00m):\n\u001b[1;32m   1072\u001b[0m     \u001b[38;5;28mself\u001b[39m\u001b[38;5;241m.\u001b[39mclose()\n",
      "File \u001b[0;32m~/.pyenv/versions/3.10.3/lib/python3.10/ssl.py:1341\u001b[0m, in \u001b[0;36mSSLSocket.do_handshake\u001b[0;34m(self, block)\u001b[0m\n\u001b[1;32m   1339\u001b[0m     \u001b[38;5;28;01mif\u001b[39;00m timeout \u001b[38;5;241m==\u001b[39m \u001b[38;5;241m0.0\u001b[39m \u001b[38;5;129;01mand\u001b[39;00m block:\n\u001b[1;32m   1340\u001b[0m         \u001b[38;5;28mself\u001b[39m\u001b[38;5;241m.\u001b[39msettimeout(\u001b[38;5;28;01mNone\u001b[39;00m)\n\u001b[0;32m-> 1341\u001b[0m     \u001b[38;5;28;43mself\u001b[39;49m\u001b[38;5;241;43m.\u001b[39;49m\u001b[43m_sslobj\u001b[49m\u001b[38;5;241;43m.\u001b[39;49m\u001b[43mdo_handshake\u001b[49m\u001b[43m(\u001b[49m\u001b[43m)\u001b[49m\n\u001b[1;32m   1342\u001b[0m \u001b[38;5;28;01mfinally\u001b[39;00m:\n\u001b[1;32m   1343\u001b[0m     \u001b[38;5;28mself\u001b[39m\u001b[38;5;241m.\u001b[39msettimeout(timeout)\n",
      "\u001b[0;31mKeyboardInterrupt\u001b[0m: "
     ]
    }
   ],
   "source": [
    "# Use this code to print if I want to make sure but stop playing because it prints a lot\n",
    "# This does not include the all the article text\n",
    "BASE_URL = \"https://lagostoday.com.ng/category/politics/\"\n",
    "for i in range(6):\n",
    "    page_url = BASE_URL + \"page/\" + str(i + 2)\n",
    "    print (page_url)\n",
    "    page_html = requests.get(page_url).text\n",
    "    page_soup = BeautifulSoup(page_html)\n",
    "    article_list = page_soup.select(\"article\")\n",
    "    for article in article_list:\n",
    "        print(article.div.header.h2.a.text)\n",
    "        print(article.div.ul.find(\"li\", class_=\"meta-date\").find(text=True, recursive=False))\n",
    "        categories_list = article.div.ul.find(\"li\", class_=\"meta-cat\").find_all(\"a\")\n",
    "        categories_text = [a.text for a in categories_list]\n",
    "        print(categories_text)\n",
    "        print(article.div.div.a[\"href\"])\n",
    "        print(get_full_article_text(article.div.div.a[\"href\"]))"
   ]
  },
  {
   "cell_type": "code",
   "execution_count": 8,
   "id": "9772f04a",
   "metadata": {},
   "outputs": [
    {
     "name": "stdout",
     "output_type": "stream",
     "text": [
      "https://lagostoday.com.ng/category/politics/page/2\n",
      "https://lagostoday.com.ng/category/politics/page/3\n",
      "https://lagostoday.com.ng/category/politics/page/4\n",
      "https://lagostoday.com.ng/category/politics/page/5\n",
      "https://lagostoday.com.ng/category/politics/page/6\n",
      "https://lagostoday.com.ng/category/politics/page/7\n"
     ]
    }
   ],
   "source": [
    "#Create the variables and add them to the list\n",
    "#recursive = False is to not go into the sub element\n",
    "all_rows = []\n",
    "\n",
    "BASE_URL = \"https://lagostoday.com.ng/category/politics/\"\n",
    "for i in range(6):\n",
    "    page_url = BASE_URL + \"page/\" + str(i + 2)\n",
    "    print (page_url)\n",
    "    page_html = requests.get(page_url).text\n",
    "    page_soup = BeautifulSoup(page_html)\n",
    "    article_list = page_soup.select(\"article\")\n",
    "    for article in article_list:\n",
    "        categories_list = article.div.ul.find(\"li\", class_=\"meta-cat\").find_all(\"a\")\n",
    "        categories_text = [a.text for a in categories_list]   \n",
    "        \n",
    "        title = article.div.header.h2.a.text\n",
    "        date = article.div.ul.find(\"li\", class_=\"meta-date\").find(text=True, recursive=False)\n",
    "        category = categories_text\n",
    "        link = article.div.div.a[\"href\"]\n",
    "        text = get_full_article_text(article.div.div.a[\"href\"])\n",
    "        \n",
    "        all_rows.append([title, date, category, link, text])\n",
    "        \n",
    "        "
   ]
  },
  {
   "cell_type": "code",
   "execution_count": 194,
   "id": "ca2a728b",
   "metadata": {},
   "outputs": [
    {
     "data": {
      "text/plain": [
       "60"
      ]
     },
     "execution_count": 194,
     "metadata": {},
     "output_type": "execute_result"
    }
   ],
   "source": [
    "# how many rows do we get?\n",
    "len(all_rows)"
   ]
  },
  {
   "cell_type": "code",
   "execution_count": 191,
   "id": "fb44a007",
   "metadata": {},
   "outputs": [],
   "source": [
    "#use pandas to create a dataframe\n",
    "import pandas as pd\n",
    "df = pd.DataFrame(all_rows)"
   ]
  },
  {
   "cell_type": "code",
   "execution_count": 192,
   "id": "8659ea82",
   "metadata": {},
   "outputs": [],
   "source": [
    "#export it to csv file\n",
    "df.to_csv('lagos_today.csv', index=False)"
   ]
  },
  {
   "cell_type": "code",
   "execution_count": null,
   "id": "957394a6",
   "metadata": {},
   "outputs": [],
   "source": []
  }
 ],
 "metadata": {
  "kernelspec": {
   "display_name": "Python 3 (ipykernel)",
   "language": "python",
   "name": "python3"
  },
  "language_info": {
   "codemirror_mode": {
    "name": "ipython",
    "version": 3
   },
   "file_extension": ".py",
   "mimetype": "text/x-python",
   "name": "python",
   "nbconvert_exporter": "python",
   "pygments_lexer": "ipython3",
   "version": "3.10.3"
  }
 },
 "nbformat": 4,
 "nbformat_minor": 5
}
